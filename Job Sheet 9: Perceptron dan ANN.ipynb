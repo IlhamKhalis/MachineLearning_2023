{
  "nbformat": 4,
  "nbformat_minor": 0,
  "metadata": {
    "colab": {
      "provenance": [],
      "include_colab_link": true
    },
    "kernelspec": {
      "name": "python3",
      "display_name": "Python 3"
    },
    "language_info": {
      "name": "python"
    }
  },
  "cells": [
    {
      "cell_type": "markdown",
      "metadata": {
        "id": "view-in-github",
        "colab_type": "text"
      },
      "source": [
        "<a href=\"https://colab.research.google.com/github/IlhamKhalis/MachineLearning_2023/blob/main/Job%20Sheet%209%3A%20Perceptron%20dan%20ANN.ipynb\" target=\"_parent\"><img src=\"https://colab.research.google.com/assets/colab-badge.svg\" alt=\"Open In Colab\"/></a>"
      ]
    },
    {
      "cell_type": "markdown",
      "source": [
        "Ilham Khalis Putra Agatha\n",
        "3G\n",
        "2141720230"
      ],
      "metadata": {
        "id": "MGTARKsnS8nw"
      }
    },
    {
      "cell_type": "markdown",
      "source": [
        "Link Github : https://github.com/IlhamKhalis/MachineLearning_2023"
      ],
      "metadata": {
        "id": "-fCAT5WdIxi3"
      }
    },
    {
      "cell_type": "markdown",
      "source": [
        "Praktikum 1"
      ],
      "metadata": {
        "id": "aBwmGt9rTGAK"
      }
    },
    {
      "cell_type": "code",
      "execution_count": null,
      "metadata": {
        "id": "IfRDqZQYD3mj",
        "outputId": "dfa71222-e365-4c44-eeea-18b071fd816c",
        "colab": {
          "base_uri": "https://localhost:8080/"
        }
      },
      "outputs": [
        {
          "output_type": "stream",
          "name": "stdout",
          "text": [
            "Mounted at /content/drive\n"
          ]
        }
      ],
      "source": [
        "from google.colab import drive\n",
        "drive.mount('/content/drive')"
      ]
    },
    {
      "cell_type": "markdown",
      "source": [
        "Klasifikasi Iris dengan Perceptron"
      ],
      "metadata": {
        "id": "hY2mq8y4TOYH"
      }
    },
    {
      "cell_type": "code",
      "source": [
        "# Langkah 1 - Import Library\n",
        "import numpy as np\n",
        "import matplotlib.pyplot as plt\n",
        "import pandas as pd\n",
        "import seaborn as sns\n"
      ],
      "metadata": {
        "id": "hXvZ-avAdpUx"
      },
      "execution_count": null,
      "outputs": []
    },
    {
      "cell_type": "code",
      "source": [
        "# Langkah 2 - Load Data dan Visualisasi\n",
        "df = pd.read_csv('/content/drive/MyDrive/iris.csv', header=None)\n",
        "setosa = df[df[4] == 'Iris-setosa']\n",
        "versicolor = df[df[4] == 'Iris-versicolor']\n",
        "virginica = df[df[4] == 'Iris-virginica']\n",
        "\n",
        "a, b = 0, 3\n",
        "plt.scatter(setosa[a], setosa[b], color='red', marker='o', label='setosa')\n",
        "plt.scatter(versicolor[a], versicolor[b], color='blue', marker='x', label='versicolor')\n",
        "\n",
        "plt.xlabel('Petal Length')\n",
        "plt.ylabel('Sepal Length')\n",
        "plt.legend(loc='upper left')\n",
        "plt.grid()\n",
        "plt.show()\n"
      ],
      "metadata": {
        "id": "jfkFrKZQdsC_",
        "outputId": "8f6c994e-6525-42d6-d513-d7f6bf779ad3",
        "colab": {
          "base_uri": "https://localhost:8080/",
          "height": 449
        }
      },
      "execution_count": null,
      "outputs": [
        {
          "output_type": "display_data",
          "data": {
            "text/plain": [
              "<Figure size 640x480 with 1 Axes>"
            ],
            "image/png": "[encoded data removed]"
          },
          "metadata": {}
        }
      ]
    },
    {
      "cell_type": "code",
      "source": [
        "# Langkah 3 -  Membuat Kelas Perceptron\n",
        "class Perceptron(object):\n",
        "    def __init__(self, eta=0.01, n_iter=10):\n",
        "        self.eta = eta\n",
        "        self.n_iter = n_iter\n",
        "\n",
        "    def fit(self, X, y):\n",
        "\n",
        "        self.w_ = np.zeros(1 + X.shape[1])\n",
        "        self.errors_ = []\n",
        "\n",
        "        for _ in range(self.n_iter):\n",
        "            errors = 0\n",
        "            for xi, target in zip(X, y):\n",
        "                update = self.eta * (target - self.predict(xi))\n",
        "                self.w_[0] += update\n",
        "                self.w_[1:] += update * xi\n",
        "                errors += int(update != 0.0)\n",
        "            self.errors_.append(errors)\n",
        "        return self\n",
        "\n",
        "    def net_input(self, X):\n",
        "        return np.dot(X, self.w_[1:]) + self.w_[0]\n",
        "\n",
        "    def predict(self, X):\n",
        "        return np.where(self.net_input(X) >= 0.0, 1, -1)"
      ],
      "metadata": {
        "id": "lipzUbTLeSg9"
      },
      "execution_count": null,
      "outputs": []
    },
    {
      "cell_type": "code",
      "source": [
        "# Langkah 4 - Pilih Data dan Encoding Label\n",
        "y = df.iloc[0:100, 4].values # pilih 100 data awal\n",
        "y = np.where(y == 'Iris-setosa', -1, 1) # ganti coding label\n",
        "X = df.iloc[0:100, [0, 3]].values # slice data latih"
      ],
      "metadata": {
        "id": "tp2klrgreV9X"
      },
      "execution_count": null,
      "outputs": []
    },
    {
      "cell_type": "code",
      "source": [
        "# Langkah 5 - Fitting Model\n",
        "ppn = Perceptron(eta=0.1, n_iter=10)\n",
        "ppn.fit(X, y)"
      ],
      "metadata": {
        "id": "L8aiRtuweZbA",
        "outputId": "8a665a85-0d09-446b-f682-d57c2fb5c6bd",
        "colab": {
          "base_uri": "https://localhost:8080/"
        }
      },
      "execution_count": null,
      "outputs": [
        {
          "output_type": "execute_result",
          "data": {
            "text/plain": [
              "<__main__.Perceptron at 0x7bbc2e767a30>"
            ]
          },
          "metadata": {},
          "execution_count": 8
        }
      ]
    },
    {
      "cell_type": "code",
      "source": [
        "# Langkah 6 - Visualisasi Nilai Error Per Epoch\n",
        "plt.plot(range(1, len(ppn.errors_)+1), ppn.errors_)\n",
        "plt.xlabel('Epochs')\n",
        "plt.ylabel('Number of updates')\n",
        "plt.show()"
      ],
      "metadata": {
        "id": "WEYfZIAUec_v",
        "outputId": "657e4d41-a844-4fd7-ce3c-803b74a0e6da",
        "colab": {
          "base_uri": "https://localhost:8080/",
          "height": 449
        }
      },
      "execution_count": null,
      "outputs": [
        {
          "output_type": "display_data",
          "data": {
            "text/plain": [
              "<Figure size 640x480 with 1 Axes>"
            ],
            "image/png": "[encoded data removed]"
          },
          "metadata": {}
        }
      ]
    },
    {
      "cell_type": "code",
      "source": [
        "# Langkah 7 - Visualiasasi Decision Boundary\n",
        "# buat fungsi untuk plot decision region\n",
        "from matplotlib.colors import ListedColormap\n",
        "\n",
        "def plot_decision_regions(X, y, classifier, resolution=0.02):\n",
        "    # setup marker generator and color map\n",
        "    markers = ('s', 'x', 'o', '^', 'v')\n",
        "    colors = ('r', 'b', 'g', 'k', 'grey')\n",
        "    cmap = ListedColormap(colors[:len(np.unique(y))])\n",
        "\n",
        "    # plot the decision regions by creating a pair of grid arrays xx1 and xx2 via meshgrid function in Numpy\n",
        "    x1_min, x1_max = X[:, 0].min() - 1, X[:, 0].max() + 1\n",
        "    x2_min, x2_max = X[:, 1].min() - 1, X[:, 1].max() + 1\n",
        "    xx1, xx2 = np.meshgrid(np.arange(x1_min, x1_max, resolution), np.arange(x2_min, x2_max, resolution))\n",
        "\n",
        "    # use predict method to predict the class labels z of the grid points\n",
        "    Z = classifier.predict(np.array([xx1.ravel(),xx2.ravel()]).T)\n",
        "    Z = Z.reshape(xx1.shape)\n",
        "\n",
        "    # draw the contour using matplotlib\n",
        "    plt.contourf(xx1, xx2, Z, alpha=0.4, cmap=cmap)\n",
        "    plt.xlim(xx1.min(), xx1.max())\n",
        "    plt.ylim(xx2.min(), xx2.max())\n",
        "\n",
        "    # plot class samples\n",
        "    for i, cl in enumerate(np.unique(y)):\n",
        "        plt.scatter(x=X[y==cl, 0], y=X[y==cl, 1], alpha=0.8, c=cmap(i), marker=markers[i], label=cl)"
      ],
      "metadata": {
        "id": "9Q9A_4QOef5Q"
      },
      "execution_count": null,
      "outputs": []
    },
    {
      "cell_type": "code",
      "source": [
        "# hasil plot\n",
        "\n",
        "plot_decision_regions(X, y, ppn)\n",
        "plt.xlabel('sepal length [cm]')\n",
        "plt.ylabel('petal length [cm]')\n",
        "plt.legend(loc='upper left')\n",
        "plt.show()"
      ],
      "metadata": {
        "id": "TFn_iYbqemAj",
        "outputId": "82f854e2-2f13-4c99-c6f8-440066fe15bf",
        "colab": {
          "base_uri": "https://localhost:8080/",
          "height": 504
        }
      },
      "execution_count": null,
      "outputs": [
        {
          "output_type": "stream",
          "name": "stderr",
          "text": [
            "<ipython-input-10-d50fb3cc6327>:27: UserWarning: *c* argument looks like a single numeric RGB or RGBA sequence, which should be avoided as value-mapping will have precedence in case its length matches with *x* & *y*.  Please use the *color* keyword-argument or provide a 2D array with a single row if you intend to specify the same RGB or RGBA value for all points.\n",
            "  plt.scatter(x=X[y==cl, 0], y=X[y==cl, 1], alpha=0.8, c=cmap(i), marker=markers[i], label=cl)\n"
          ]
        },
        {
          "output_type": "display_data",
          "data": {
            "text/plain": [
              "<Figure size 640x480 with 1 Axes>"
            ],
            "image/png": "[encoded data removed]"
          },
          "metadata": {}
        }
      ]
    },
    {
      "cell_type": "markdown",
      "source": [
        "Praktikum 2"
      ],
      "metadata": {
        "id": "Xir-40AxTXuQ"
      }
    },
    {
      "cell_type": "markdown",
      "source": [
        "Klasifikasi Berita dengan Perceptron"
      ],
      "metadata": {
        "id": "-qfGTQnoTbkq"
      }
    },
    {
      "cell_type": "code",
      "source": [
        "# Langkah 1 - Import Library\n",
        "from sklearn.datasets import fetch_20newsgroups # download dataset\n",
        "from sklearn.feature_extraction.text import TfidfVectorizer\n",
        "from sklearn.linear_model import Perceptron\n",
        "from sklearn.metrics import f1_score, classification_report"
      ],
      "metadata": {
        "id": "5s-kUoJmTea_"
      },
      "execution_count": null,
      "outputs": []
    },
    {
      "cell_type": "code",
      "source": [
        "# Langkah 2 - Pilih Label dan Split Data\n",
        "categories = ['rec.sport.hockey', 'rec.sport.baseball', 'rec.autos']\n",
        "newsgroups_train = fetch_20newsgroups(subset='train', categories=categories, remove=('headers', 'footers', 'quotes'))\n",
        "newsgroups_test = fetch_20newsgroups(subset='test', categories=categories, remove=('headers', 'footers', 'quotes'))"
      ],
      "metadata": {
        "id": "o57gxFQkTlx0"
      },
      "execution_count": null,
      "outputs": []
    },
    {
      "cell_type": "code",
      "source": [
        "# Langkah 3 - Ekstrak Fitur dan Buat Model Perceptron\n",
        "# Ekstrak Fitur\n",
        "vectorizer = TfidfVectorizer()\n",
        "\n",
        "# Fit fitur\n",
        "X_train = vectorizer.fit_transform(newsgroups_train.data)\n",
        "X_test = vectorizer.transform(newsgroups_test.data)\n",
        "\n",
        "# Fit Model\n",
        "clf = Perceptron(random_state=11)\n",
        "clf.fit(X_train, newsgroups_train.target)\n",
        "\n",
        "# Prediksi\n",
        "predictions = clf.predict(X_test)\n",
        "print(classification_report(newsgroups_test.target, predictions))"
      ],
      "metadata": {
        "colab": {
          "base_uri": "https://localhost:8080/"
        },
        "id": "HauaigSZTxlz",
        "outputId": "5aa40a3b-91f9-4892-bfce-3b8466bf16cf"
      },
      "execution_count": null,
      "outputs": [
        {
          "output_type": "stream",
          "name": "stdout",
          "text": [
            "              precision    recall  f1-score   support\n",
            "\n",
            "           0       0.88      0.88      0.88       396\n",
            "           1       0.82      0.83      0.83       397\n",
            "           2       0.88      0.87      0.87       399\n",
            "\n",
            "    accuracy                           0.86      1192\n",
            "   macro avg       0.86      0.86      0.86      1192\n",
            "weighted avg       0.86      0.86      0.86      1192\n",
            "\n"
          ]
        }
      ]
    },
    {
      "cell_type": "markdown",
      "source": [
        "Praktikum 3"
      ],
      "metadata": {
        "id": "qE8Z8Zm4T2qg"
      }
    },
    {
      "cell_type": "markdown",
      "source": [
        "Nilai Logika XOR dengan MLP"
      ],
      "metadata": {
        "id": "tJj-5fYAT6oe"
      }
    },
    {
      "cell_type": "code",
      "source": [
        "# Langkah 1 - Import Library\n",
        "from sklearn.neural_network import MLPClassifier"
      ],
      "metadata": {
        "id": "kInFv8s0T5qi"
      },
      "execution_count": null,
      "outputs": []
    },
    {
      "cell_type": "code",
      "source": [
        "# Langah 2 - Buat Data\n",
        "y = [0, 1, 1, 0] # label\n",
        "X = [[0, 0], [0, 1], [1, 0], [1, 1]] # data"
      ],
      "metadata": {
        "id": "FG-qiXqTUBnR"
      },
      "execution_count": null,
      "outputs": []
    },
    {
      "cell_type": "code",
      "source": [
        "# Langkah 3 - Fit Model\n",
        "# Fit model\n",
        "clf = MLPClassifier(solver='lbfgs', activation='logistic', hidden_layer_sizes=(2,), max_iter=100, random_state=20)\n",
        "clf.fit(X, y)"
      ],
      "metadata": {
        "colab": {
          "base_uri": "https://localhost:8080/",
          "height": 93
        },
        "id": "MEOMAq-1UEBu",
        "outputId": "957deba1-f702-4291-d44d-72e011140fe0"
      },
      "execution_count": null,
      "outputs": [
        {
          "output_type": "execute_result",
          "data": {
            "text/plain": [
              "MLPClassifier(activation='logistic', hidden_layer_sizes=(2,), max_iter=100,\n",
              "              random_state=20, solver='lbfgs')"
            ],
            "text/html": [
              "<style>#sk-container-id-1 {color: black;background-color: white;}#sk-container-id-1 pre{padding: 0;}#sk-container-id-1 div.sk-toggleable {background-color: white;}#sk-container-id-1 label.sk-toggleable__label {cursor: pointer;display: block;width: 100%;margin-bottom: 0;padding: 0.3em;box-sizing: border-box;text-align: center;}#sk-container-id-1 label.sk-toggleable__label-arrow:before {content: \"▸\";float: left;margin-right: 0.25em;color: #696969;}#sk-container-id-1 label.sk-toggleable__label-arrow:hover:before {color: black;}#sk-container-id-1 div.sk-estimator:hover label.sk-toggleable__label-arrow:before {color: black;}#sk-container-id-1 div.sk-toggleable__content {max-height: 0;max-width: 0;overflow: hidden;text-align: left;background-color: #f0f8ff;}#sk-container-id-1 div.sk-toggleable__content pre {margin: 0.2em;color: black;border-radius: 0.25em;background-color: #f0f8ff;}#sk-container-id-1 input.sk-toggleable__control:checked~div.sk-toggleable__content {max-height: 200px;max-width: 100%;overflow: auto;}#sk-container-id-1 input.sk-toggleable__control:checked~label.sk-toggleable__label-arrow:before {content: \"▾\";}#sk-container-id-1 div.sk-estimator input.sk-toggleable__control:checked~label.sk-toggleable__label {background-color: #d4ebff;}#sk-container-id-1 div.sk-label input.sk-toggleable__control:checked~label.sk-toggleable__label {background-color: #d4ebff;}#sk-container-id-1 input.sk-hidden--visually {border: 0;clip: rect(1px 1px 1px 1px);clip: rect(1px, 1px, 1px, 1px);height: 1px;margin: -1px;overflow: hidden;padding: 0;position: absolute;width: 1px;}#sk-container-id-1 div.sk-estimator {font-family: monospace;background-color: #f0f8ff;border: 1px dotted black;border-radius: 0.25em;box-sizing: border-box;margin-bottom: 0.5em;}#sk-container-id-1 div.sk-estimator:hover {background-color: #d4ebff;}#sk-container-id-1 div.sk-parallel-item::after {content: \"\";width: 100%;border-bottom: 1px solid gray;flex-grow: 1;}#sk-container-id-1 div.sk-label:hover label.sk-toggleable__label {background-color: #d4ebff;}#sk-container-id-1 div.sk-serial::before {content: \"\";position: absolute;border-left: 1px solid gray;box-sizing: border-box;top: 0;bottom: 0;left: 50%;z-index: 0;}#sk-container-id-1 div.sk-serial {display: flex;flex-direction: column;align-items: center;background-color: white;padding-right: 0.2em;padding-left: 0.2em;position: relative;}#sk-container-id-1 div.sk-item {position: relative;z-index: 1;}#sk-container-id-1 div.sk-parallel {display: flex;align-items: stretch;justify-content: center;background-color: white;position: relative;}#sk-container-id-1 div.sk-item::before, #sk-container-id-1 div.sk-parallel-item::before {content: \"\";position: absolute;border-left: 1px solid gray;box-sizing: border-box;top: 0;bottom: 0;left: 50%;z-index: -1;}#sk-container-id-1 div.sk-parallel-item {display: flex;flex-direction: column;z-index: 1;position: relative;background-color: white;}#sk-container-id-1 div.sk-parallel-item:first-child::after {align-self: flex-end;width: 50%;}#sk-container-id-1 div.sk-parallel-item:last-child::after {align-self: flex-start;width: 50%;}#sk-container-id-1 div.sk-parallel-item:only-child::after {width: 0;}#sk-container-id-1 div.sk-dashed-wrapped {border: 1px dashed gray;margin: 0 0.4em 0.5em 0.4em;box-sizing: border-box;padding-bottom: 0.4em;background-color: white;}#sk-container-id-1 div.sk-label label {font-family: monospace;font-weight: bold;display: inline-block;line-height: 1.2em;}#sk-container-id-1 div.sk-label-container {text-align: center;}#sk-container-id-1 div.sk-container {/* jupyter's `normalize.less` sets `[hidden] { display: none; }` but bootstrap.min.css set `[hidden] { display: none !important; }` so we also need the `!important` here to be able to override the default hidden behavior on the sphinx rendered scikit-learn.org. See: https://github.com/scikit-learn/scikit-learn/issues/21755 */display: inline-block !important;position: relative;}#sk-container-id-1 div.sk-text-repr-fallback {display: none;}</style><div id=\"sk-container-id-1\" class=\"sk-top-container\"><div class=\"sk-text-repr-fallback\"><pre>MLPClassifier(activation=&#x27;logistic&#x27;, hidden_layer_sizes=(2,), max_iter=100,\n",
              "              random_state=20, solver=&#x27;lbfgs&#x27;)</pre><b>In a Jupyter environment, please rerun this cell to show the HTML representation or trust the notebook. <br />On GitHub, the HTML representation is unable to render, please try loading this page with nbviewer.org.</b></div><div class=\"sk-container\" hidden><div class=\"sk-item\"><div class=\"sk-estimator sk-toggleable\"><input class=\"sk-toggleable__control sk-hidden--visually\" id=\"sk-estimator-id-1\" type=\"checkbox\" checked><label for=\"sk-estimator-id-1\" class=\"sk-toggleable__label sk-toggleable__label-arrow\">MLPClassifier</label><div class=\"sk-toggleable__content\"><pre>MLPClassifier(activation=&#x27;logistic&#x27;, hidden_layer_sizes=(2,), max_iter=100,\n",
              "              random_state=20, solver=&#x27;lbfgs&#x27;)</pre></div></div></div></div></div>"
            ]
          },
          "metadata": {},
          "execution_count": 17
        }
      ]
    },
    {
      "cell_type": "code",
      "source": [
        "# Langkah 4 - Prediksi\n",
        "pred = clf.predict(X)\n",
        "print('Accuracy: %s' % clf.score(X, y))\n",
        "for i,p in enumerate(pred[:10]):\n",
        "    print('True: %s, Predicted: %s' % (y[i], p))"
      ],
      "metadata": {
        "colab": {
          "base_uri": "https://localhost:8080/"
        },
        "id": "CIhIxzqeUGvy",
        "outputId": "57d9b0ad-8a24-4874-fa0f-0425f5d5fdd6"
      },
      "execution_count": null,
      "outputs": [
        {
          "output_type": "stream",
          "name": "stdout",
          "text": [
            "Accuracy: 1.0\n",
            "True: 0, Predicted: 0\n",
            "True: 1, Predicted: 1\n",
            "True: 1, Predicted: 1\n",
            "True: 0, Predicted: 0\n"
          ]
        }
      ]
    },
    {
      "cell_type": "markdown",
      "source": [
        "Praktikum 4"
      ],
      "metadata": {
        "id": "Dj-ZLLeIUIy7"
      }
    },
    {
      "cell_type": "markdown",
      "source": [
        "Klasifikasi dengan ANN"
      ],
      "metadata": {
        "id": "_w1YEAEiUMb0"
      }
    },
    {
      "cell_type": "code",
      "source": [
        "# Langkah 1 - Import Library\n",
        "import numpy as np\n",
        "import pandas as pd\n",
        "import tensorflow as tf"
      ],
      "metadata": {
        "id": "w_Xftv96UPX1"
      },
      "execution_count": null,
      "outputs": []
    },
    {
      "cell_type": "code",
      "source": [
        "# Langkah 2 - Load Data\n",
        "dataset = pd.read_csv('/content/drive/MyDrive/Churn_Modelling.csv')\n",
        "X = dataset.iloc[:, 3:-1].values\n",
        "y = dataset.iloc[:, -1].values"
      ],
      "metadata": {
        "id": "PyQlDBEEUd3P"
      },
      "execution_count": null,
      "outputs": []
    },
    {
      "cell_type": "code",
      "source": [
        "# Cek Data\n",
        "print(X)"
      ],
      "metadata": {
        "colab": {
          "base_uri": "https://localhost:8080/"
        },
        "id": "o-usrlQhU9eR",
        "outputId": "f78a359a-124d-4fe7-c6d4-803340af4f93"
      },
      "execution_count": null,
      "outputs": [
        {
          "output_type": "stream",
          "name": "stdout",
          "text": [
            "[[619 'France' 'Female' ... 1 1 101348.88]\n",
            " [608 'Spain' 'Female' ... 0 1 112542.58]\n",
            " [502 'France' 'Female' ... 1 0 113931.57]\n",
            " ...\n",
            " [709 'France' 'Female' ... 0 1 42085.58]\n",
            " [772 'Germany' 'Male' ... 1 0 92888.52]\n",
            " [792 'France' 'Female' ... 1 0 38190.78]]\n"
          ]
        }
      ]
    },
    {
      "cell_type": "code",
      "source": [
        "# Langkah 3 - Encoding Data Kategorikal\n",
        "from sklearn.preprocessing import LabelEncoder\n",
        "le = LabelEncoder()\n",
        "X[:, 2] = le.fit_transform(X[:, 2])"
      ],
      "metadata": {
        "id": "n3Wyu3HsVABg"
      },
      "execution_count": null,
      "outputs": []
    },
    {
      "cell_type": "code",
      "source": [
        "print(X)"
      ],
      "metadata": {
        "colab": {
          "base_uri": "https://localhost:8080/"
        },
        "id": "6ypov7-3VChi",
        "outputId": "9037d3aa-bb8c-4603-ae1e-afe36542cbc4"
      },
      "execution_count": null,
      "outputs": [
        {
          "output_type": "stream",
          "name": "stdout",
          "text": [
            "[[619 'France' 0 ... 1 1 101348.88]\n",
            " [608 'Spain' 0 ... 0 1 112542.58]\n",
            " [502 'France' 0 ... 1 0 113931.57]\n",
            " ...\n",
            " [709 'France' 0 ... 0 1 42085.58]\n",
            " [772 'Germany' 1 ... 1 0 92888.52]\n",
            " [792 'France' 0 ... 1 0 38190.78]]\n"
          ]
        }
      ]
    },
    {
      "cell_type": "code",
      "source": [
        "# Langkah 4 - Encoding Kolom \"Geography\" dengan One Hot Encoder\n",
        "from sklearn.compose import ColumnTransformer\n",
        "from sklearn.preprocessing import OneHotEncoder\n",
        "ct = ColumnTransformer(transformers=[('encoder', OneHotEncoder(), [1])], remainder='passthrough')\n",
        "X = np.array(ct.fit_transform(X))"
      ],
      "metadata": {
        "id": "WILyjndmVE6S"
      },
      "execution_count": null,
      "outputs": []
    },
    {
      "cell_type": "code",
      "source": [
        "print(X)"
      ],
      "metadata": {
        "colab": {
          "base_uri": "https://localhost:8080/"
        },
        "id": "kWm_V9JmVHrJ",
        "outputId": "cca13419-cfb0-4983-ce16-0e05e908fd78"
      },
      "execution_count": null,
      "outputs": [
        {
          "output_type": "stream",
          "name": "stdout",
          "text": [
            "[[1.0 0.0 0.0 ... 1 1 101348.88]\n",
            " [0.0 0.0 1.0 ... 0 1 112542.58]\n",
            " [1.0 0.0 0.0 ... 1 0 113931.57]\n",
            " ...\n",
            " [1.0 0.0 0.0 ... 0 1 42085.58]\n",
            " [0.0 1.0 0.0 ... 1 0 92888.52]\n",
            " [1.0 0.0 0.0 ... 1 0 38190.78]]\n"
          ]
        }
      ]
    },
    {
      "cell_type": "code",
      "source": [
        "# Langkah 5 - Split Data\n",
        "from sklearn.model_selection import train_test_split\n",
        "X_train, X_test, y_train, y_test = train_test_split(X, y, test_size = 0.2, random_state = 0)"
      ],
      "metadata": {
        "id": "dYUUy1EPVKkA"
      },
      "execution_count": null,
      "outputs": []
    },
    {
      "cell_type": "code",
      "source": [
        "# Langkah 6 - Scaling Fitur\n",
        "from sklearn.preprocessing import StandardScaler\n",
        "sc = StandardScaler()\n",
        "X_train = sc.fit_transform(X_train)\n",
        "X_test = sc.transform(X_test)"
      ],
      "metadata": {
        "id": "XyLE1zvSVNsH"
      },
      "execution_count": null,
      "outputs": []
    },
    {
      "cell_type": "markdown",
      "source": [
        "Membuat Model ANN"
      ],
      "metadata": {
        "id": "5TPikl8CVR7k"
      }
    },
    {
      "cell_type": "code",
      "source": [
        "# Langkah 1 - Inisiasi Model ANN\n",
        "ann = tf.keras.models.Sequential()"
      ],
      "metadata": {
        "id": "zmoaMC6YVQnr"
      },
      "execution_count": null,
      "outputs": []
    },
    {
      "cell_type": "code",
      "source": [
        "# Langkah 2 - Membuat Input Layer dan Hidden Layer Pertama\n",
        "ann.add(tf.keras.layers.Dense(units=6, activation='relu'))"
      ],
      "metadata": {
        "id": "b6nb3Q-IVXj_"
      },
      "execution_count": null,
      "outputs": []
    },
    {
      "cell_type": "code",
      "source": [
        "# Langkah 3 - Membuat Hidden Layer Kedua\n",
        "ann.add(tf.keras.layers.Dense(units=6, activation='relu'))"
      ],
      "metadata": {
        "id": "4zWI5xBqVZ9r"
      },
      "execution_count": null,
      "outputs": []
    },
    {
      "cell_type": "code",
      "source": [
        "# Langkah 4 - Membuat Output Layer\n",
        "ann.add(tf.keras.layers.Dense(units=1, activation='sigmoid'))"
      ],
      "metadata": {
        "id": "B41871CgVdh2"
      },
      "execution_count": null,
      "outputs": []
    },
    {
      "cell_type": "markdown",
      "source": [
        "Training Model"
      ],
      "metadata": {
        "id": "rln1d9PoVetk"
      }
    },
    {
      "cell_type": "code",
      "source": [
        "# Langkah 1 - Compile Model (Menyatukan Arsitektur) ANN\n",
        "ann.compile(optimizer = 'adam', loss = 'binary_crossentropy', metrics = ['accuracy'])"
      ],
      "metadata": {
        "id": "HPlpaC-tVi_9"
      },
      "execution_count": null,
      "outputs": []
    },
    {
      "cell_type": "code",
      "source": [
        "# Langkah 2 - Fitting Model\n",
        "ann.fit(X_train, y_train, batch_size = 32, epochs = 100)\n"
      ],
      "metadata": {
        "colab": {
          "base_uri": "https://localhost:8080/"
        },
        "id": "2CLDYbYyVkIK",
        "outputId": "f10749fb-21a1-4bd0-95c4-2252decf6ed6"
      },
      "execution_count": null,
      "outputs": [
        {
          "output_type": "stream",
          "name": "stdout",
          "text": [
            "Epoch 1/100\n",
            "250/250 [==============================] - 1s 2ms/step - loss: 0.3344 - accuracy: 0.8646\n",
            "Epoch 2/100\n",
            "250/250 [==============================] - 1s 3ms/step - loss: 0.3349 - accuracy: 0.8636\n",
            "Epoch 3/100\n",
            "250/250 [==============================] - 1s 4ms/step - loss: 0.3341 - accuracy: 0.8641\n",
            "Epoch 4/100\n",
            "250/250 [==============================] - 1s 3ms/step - loss: 0.3346 - accuracy: 0.8646\n",
            "Epoch 5/100\n",
            "250/250 [==============================] - 1s 3ms/step - loss: 0.3346 - accuracy: 0.8639\n",
            "Epoch 6/100\n",
            "250/250 [==============================] - 1s 3ms/step - loss: 0.3343 - accuracy: 0.8658\n",
            "Epoch 7/100\n",
            "250/250 [==============================] - 1s 2ms/step - loss: 0.3347 - accuracy: 0.8635\n",
            "Epoch 8/100\n",
            "250/250 [==============================] - 0s 2ms/step - loss: 0.3341 - accuracy: 0.8651\n",
            "Epoch 9/100\n",
            "250/250 [==============================] - 0s 2ms/step - loss: 0.3341 - accuracy: 0.8650\n",
            "Epoch 10/100\n",
            "250/250 [==============================] - 0s 2ms/step - loss: 0.3341 - accuracy: 0.8648\n",
            "Epoch 11/100\n",
            "250/250 [==============================] - 0s 2ms/step - loss: 0.3341 - accuracy: 0.8641\n",
            "Epoch 12/100\n",
            "250/250 [==============================] - 0s 2ms/step - loss: 0.3341 - accuracy: 0.8644\n",
            "Epoch 13/100\n",
            "250/250 [==============================] - 1s 2ms/step - loss: 0.3343 - accuracy: 0.8649\n",
            "Epoch 14/100\n",
            "250/250 [==============================] - 1s 2ms/step - loss: 0.3340 - accuracy: 0.8655\n",
            "Epoch 15/100\n",
            "250/250 [==============================] - 0s 2ms/step - loss: 0.3341 - accuracy: 0.8658\n",
            "Epoch 16/100\n",
            "250/250 [==============================] - 0s 2ms/step - loss: 0.3339 - accuracy: 0.8660\n",
            "Epoch 17/100\n",
            "250/250 [==============================] - 0s 2ms/step - loss: 0.3340 - accuracy: 0.8655\n",
            "Epoch 18/100\n",
            "250/250 [==============================] - 1s 2ms/step - loss: 0.3341 - accuracy: 0.8660\n",
            "Epoch 19/100\n",
            "250/250 [==============================] - 0s 2ms/step - loss: 0.3338 - accuracy: 0.8670\n",
            "Epoch 20/100\n",
            "250/250 [==============================] - 0s 2ms/step - loss: 0.3341 - accuracy: 0.8651\n",
            "Epoch 21/100\n",
            "250/250 [==============================] - 1s 4ms/step - loss: 0.3336 - accuracy: 0.8658\n",
            "Epoch 22/100\n",
            "250/250 [==============================] - 1s 4ms/step - loss: 0.3339 - accuracy: 0.8649\n",
            "Epoch 23/100\n",
            "250/250 [==============================] - 1s 4ms/step - loss: 0.3338 - accuracy: 0.8660\n",
            "Epoch 24/100\n",
            "250/250 [==============================] - 1s 5ms/step - loss: 0.3338 - accuracy: 0.8640\n",
            "Epoch 25/100\n",
            "250/250 [==============================] - 1s 6ms/step - loss: 0.3343 - accuracy: 0.8664\n",
            "Epoch 26/100\n",
            "250/250 [==============================] - 2s 7ms/step - loss: 0.3337 - accuracy: 0.8662\n",
            "Epoch 27/100\n",
            "250/250 [==============================] - 1s 5ms/step - loss: 0.3338 - accuracy: 0.8675\n",
            "Epoch 28/100\n",
            "250/250 [==============================] - 1s 4ms/step - loss: 0.3334 - accuracy: 0.8659\n",
            "Epoch 29/100\n",
            "250/250 [==============================] - 1s 4ms/step - loss: 0.3337 - accuracy: 0.8654\n",
            "Epoch 30/100\n",
            "250/250 [==============================] - 1s 3ms/step - loss: 0.3336 - accuracy: 0.8660\n",
            "Epoch 31/100\n",
            "250/250 [==============================] - 1s 3ms/step - loss: 0.3335 - accuracy: 0.8659\n",
            "Epoch 32/100\n",
            "250/250 [==============================] - 1s 4ms/step - loss: 0.3334 - accuracy: 0.8673\n",
            "Epoch 33/100\n",
            "250/250 [==============================] - 1s 5ms/step - loss: 0.3337 - accuracy: 0.8656\n",
            "Epoch 34/100\n",
            "250/250 [==============================] - 1s 4ms/step - loss: 0.3336 - accuracy: 0.8668\n",
            "Epoch 35/100\n",
            "250/250 [==============================] - 1s 4ms/step - loss: 0.3338 - accuracy: 0.8650\n",
            "Epoch 36/100\n",
            "250/250 [==============================] - 1s 3ms/step - loss: 0.3338 - accuracy: 0.8659\n",
            "Epoch 37/100\n",
            "250/250 [==============================] - 1s 5ms/step - loss: 0.3335 - accuracy: 0.8670\n",
            "Epoch 38/100\n",
            "250/250 [==============================] - 2s 9ms/step - loss: 0.3333 - accuracy: 0.8661\n",
            "Epoch 39/100\n",
            "250/250 [==============================] - 2s 9ms/step - loss: 0.3335 - accuracy: 0.8662\n",
            "Epoch 40/100\n",
            "250/250 [==============================] - 1s 4ms/step - loss: 0.3337 - accuracy: 0.8668\n",
            "Epoch 41/100\n",
            "250/250 [==============================] - 1s 4ms/step - loss: 0.3334 - accuracy: 0.8654\n",
            "Epoch 42/100\n",
            "250/250 [==============================] - 1s 3ms/step - loss: 0.3333 - accuracy: 0.8656\n",
            "Epoch 43/100\n",
            "250/250 [==============================] - 1s 5ms/step - loss: 0.3333 - accuracy: 0.8686\n",
            "Epoch 44/100\n",
            "250/250 [==============================] - 1s 4ms/step - loss: 0.3332 - accuracy: 0.8658\n",
            "Epoch 45/100\n",
            "250/250 [==============================] - 1s 3ms/step - loss: 0.3330 - accuracy: 0.8664\n",
            "Epoch 46/100\n",
            "250/250 [==============================] - 1s 4ms/step - loss: 0.3332 - accuracy: 0.8668\n",
            "Epoch 47/100\n",
            "250/250 [==============================] - 1s 3ms/step - loss: 0.3330 - accuracy: 0.8669\n",
            "Epoch 48/100\n",
            "250/250 [==============================] - 1s 4ms/step - loss: 0.3333 - accuracy: 0.8674\n",
            "Epoch 49/100\n",
            "250/250 [==============================] - 1s 4ms/step - loss: 0.3333 - accuracy: 0.8661\n",
            "Epoch 50/100\n",
            "250/250 [==============================] - 1s 6ms/step - loss: 0.3332 - accuracy: 0.8661\n",
            "Epoch 51/100\n",
            "250/250 [==============================] - 1s 4ms/step - loss: 0.3329 - accuracy: 0.8665\n",
            "Epoch 52/100\n",
            "250/250 [==============================] - 2s 9ms/step - loss: 0.3332 - accuracy: 0.8674\n",
            "Epoch 53/100\n",
            "250/250 [==============================] - 1s 3ms/step - loss: 0.3330 - accuracy: 0.8668\n",
            "Epoch 54/100\n",
            "250/250 [==============================] - 1s 4ms/step - loss: 0.3332 - accuracy: 0.8664\n",
            "Epoch 55/100\n",
            "250/250 [==============================] - 1s 4ms/step - loss: 0.3332 - accuracy: 0.8662\n",
            "Epoch 56/100\n",
            "250/250 [==============================] - 1s 3ms/step - loss: 0.3331 - accuracy: 0.8644\n",
            "Epoch 57/100\n",
            "250/250 [==============================] - 1s 3ms/step - loss: 0.3334 - accuracy: 0.8670\n",
            "Epoch 58/100\n",
            "250/250 [==============================] - 1s 3ms/step - loss: 0.3331 - accuracy: 0.8674\n",
            "Epoch 59/100\n",
            "250/250 [==============================] - 1s 3ms/step - loss: 0.3330 - accuracy: 0.8664\n",
            "Epoch 60/100\n",
            "250/250 [==============================] - 1s 4ms/step - loss: 0.3328 - accuracy: 0.8660\n",
            "Epoch 61/100\n",
            "250/250 [==============================] - 1s 4ms/step - loss: 0.3331 - accuracy: 0.8666\n",
            "Epoch 62/100\n",
            "250/250 [==============================] - 1s 3ms/step - loss: 0.3330 - accuracy: 0.8676\n",
            "Epoch 63/100\n",
            "250/250 [==============================] - 1s 2ms/step - loss: 0.3329 - accuracy: 0.8684\n",
            "Epoch 64/100\n",
            "250/250 [==============================] - 0s 2ms/step - loss: 0.3331 - accuracy: 0.8656\n",
            "Epoch 65/100\n",
            "250/250 [==============================] - 0s 2ms/step - loss: 0.3334 - accuracy: 0.8671\n",
            "Epoch 66/100\n",
            "250/250 [==============================] - 1s 2ms/step - loss: 0.3330 - accuracy: 0.8660\n",
            "Epoch 67/100\n",
            "250/250 [==============================] - 1s 2ms/step - loss: 0.3328 - accuracy: 0.8677\n",
            "Epoch 68/100\n",
            "250/250 [==============================] - 1s 2ms/step - loss: 0.3329 - accuracy: 0.8677\n",
            "Epoch 69/100\n",
            "250/250 [==============================] - 1s 3ms/step - loss: 0.3329 - accuracy: 0.8690\n",
            "Epoch 70/100\n",
            "250/250 [==============================] - 1s 3ms/step - loss: 0.3332 - accuracy: 0.8668\n",
            "Epoch 71/100\n",
            "250/250 [==============================] - 1s 3ms/step - loss: 0.3332 - accuracy: 0.8671\n",
            "Epoch 72/100\n",
            "250/250 [==============================] - 1s 3ms/step - loss: 0.3331 - accuracy: 0.8650\n",
            "Epoch 73/100\n",
            "250/250 [==============================] - 1s 2ms/step - loss: 0.3327 - accuracy: 0.8656\n",
            "Epoch 74/100\n",
            "250/250 [==============================] - 0s 2ms/step - loss: 0.3330 - accuracy: 0.8676\n",
            "Epoch 75/100\n",
            "250/250 [==============================] - 0s 2ms/step - loss: 0.3327 - accuracy: 0.8677\n",
            "Epoch 76/100\n",
            "250/250 [==============================] - 0s 2ms/step - loss: 0.3328 - accuracy: 0.8668\n",
            "Epoch 77/100\n",
            "250/250 [==============================] - 0s 2ms/step - loss: 0.3329 - accuracy: 0.8668\n",
            "Epoch 78/100\n",
            "250/250 [==============================] - 0s 2ms/step - loss: 0.3327 - accuracy: 0.8666\n",
            "Epoch 79/100\n",
            "250/250 [==============================] - 0s 2ms/step - loss: 0.3325 - accuracy: 0.8671\n",
            "Epoch 80/100\n",
            "250/250 [==============================] - 0s 2ms/step - loss: 0.3330 - accuracy: 0.8669\n",
            "Epoch 81/100\n",
            "250/250 [==============================] - 0s 2ms/step - loss: 0.3329 - accuracy: 0.8660\n",
            "Epoch 82/100\n",
            "250/250 [==============================] - 0s 2ms/step - loss: 0.3331 - accuracy: 0.8668\n",
            "Epoch 83/100\n",
            "250/250 [==============================] - 0s 2ms/step - loss: 0.3329 - accuracy: 0.8659\n",
            "Epoch 84/100\n",
            "250/250 [==============================] - 0s 2ms/step - loss: 0.3331 - accuracy: 0.8658\n",
            "Epoch 85/100\n",
            "250/250 [==============================] - 0s 2ms/step - loss: 0.3322 - accuracy: 0.8669\n",
            "Epoch 86/100\n",
            "250/250 [==============================] - 0s 2ms/step - loss: 0.3331 - accuracy: 0.8674\n",
            "Epoch 87/100\n",
            "250/250 [==============================] - 0s 2ms/step - loss: 0.3330 - accuracy: 0.8656\n",
            "Epoch 88/100\n",
            "250/250 [==============================] - 0s 2ms/step - loss: 0.3331 - accuracy: 0.8665\n",
            "Epoch 89/100\n",
            "250/250 [==============================] - 0s 2ms/step - loss: 0.3329 - accuracy: 0.8668\n",
            "Epoch 90/100\n",
            "250/250 [==============================] - 0s 2ms/step - loss: 0.3328 - accuracy: 0.8664\n",
            "Epoch 91/100\n",
            "250/250 [==============================] - 0s 2ms/step - loss: 0.3328 - accuracy: 0.8659\n",
            "Epoch 92/100\n",
            "250/250 [==============================] - 0s 2ms/step - loss: 0.3326 - accuracy: 0.8674\n",
            "Epoch 93/100\n",
            "250/250 [==============================] - 0s 2ms/step - loss: 0.3327 - accuracy: 0.8677\n",
            "Epoch 94/100\n",
            "250/250 [==============================] - 0s 2ms/step - loss: 0.3323 - accuracy: 0.8676\n",
            "Epoch 95/100\n",
            "250/250 [==============================] - 1s 2ms/step - loss: 0.3331 - accuracy: 0.8668\n",
            "Epoch 96/100\n",
            "250/250 [==============================] - 1s 3ms/step - loss: 0.3325 - accuracy: 0.8660\n",
            "Epoch 97/100\n",
            "250/250 [==============================] - 1s 3ms/step - loss: 0.3329 - accuracy: 0.8670\n",
            "Epoch 98/100\n",
            "250/250 [==============================] - 1s 3ms/step - loss: 0.3326 - accuracy: 0.8671\n",
            "Epoch 99/100\n",
            "250/250 [==============================] - 1s 3ms/step - loss: 0.3325 - accuracy: 0.8650\n",
            "Epoch 100/100\n",
            "250/250 [==============================] - 1s 3ms/step - loss: 0.3326 - accuracy: 0.8652\n"
          ]
        },
        {
          "output_type": "execute_result",
          "data": {
            "text/plain": [
              "<keras.src.callbacks.History at 0x7bbbd41cdf90>"
            ]
          },
          "metadata": {},
          "execution_count": 35
        }
      ]
    },
    {
      "cell_type": "code",
      "source": [
        "# Modelkan Data Baru dan Buat Prediksi\n",
        "print(ann.predict(sc.transform([[1, 0, 0, 600, 1, 40, 3, 60000, 2, 1, 1, 50000]])) > 0.5)"
      ],
      "metadata": {
        "colab": {
          "base_uri": "https://localhost:8080/"
        },
        "id": "83NaGcb7V9s7",
        "outputId": "b90a6ae9-0255-4208-efb8-1bcd80f91906"
      },
      "execution_count": null,
      "outputs": [
        {
          "output_type": "stream",
          "name": "stdout",
          "text": [
            "1/1 [==============================] - 0s 108ms/step\n",
            "[[False]]\n"
          ]
        }
      ]
    },
    {
      "cell_type": "code",
      "source": [
        "# Prediksi Dengan Data Testing\n",
        "y_pred = ann.predict(X_test)\n",
        "y_pred = (y_pred > 0.5)\n",
        "print(np.concatenate((y_pred.reshape(len(y_pred),1), y_test.reshape(len(y_test),1)),1))"
      ],
      "metadata": {
        "colab": {
          "base_uri": "https://localhost:8080/"
        },
        "id": "xPw2IfkDWCkU",
        "outputId": "0adc5eda-412b-4108-b290-929677a5537d"
      },
      "execution_count": null,
      "outputs": [
        {
          "output_type": "stream",
          "name": "stdout",
          "text": [
            "63/63 [==============================] - 0s 1ms/step\n",
            "[[0 0]\n",
            " [0 1]\n",
            " [0 0]\n",
            " ...\n",
            " [0 0]\n",
            " [0 0]\n",
            " [0 0]]\n"
          ]
        }
      ]
    },
    {
      "cell_type": "code",
      "source": [
        "# Cek Akurasi dan Confusion Matrix\n",
        "from sklearn.metrics import confusion_matrix, accuracy_score\n",
        "cm = confusion_matrix(y_test, y_pred)\n",
        "print(cm)\n",
        "accuracy_score(y_test, y_pred)"
      ],
      "metadata": {
        "colab": {
          "base_uri": "https://localhost:8080/"
        },
        "id": "ZPtxptq6WHNZ",
        "outputId": "a79b51b7-93b0-41e7-b8ff-ae6cc8d60d24"
      },
      "execution_count": null,
      "outputs": [
        {
          "output_type": "stream",
          "name": "stdout",
          "text": [
            "[[1501   94]\n",
            " [ 188  217]]\n"
          ]
        },
        {
          "output_type": "execute_result",
          "data": {
            "text/plain": [
              "0.859"
            ]
          },
          "metadata": {},
          "execution_count": 38
        }
      ]
    },
    {
      "cell_type": "markdown",
      "source": [
        "TUGAS PRAKTIKUM"
      ],
      "metadata": {
        "id": "u8h9hp0eWItS"
      }
    },
    {
      "cell_type": "code",
      "source": [
        "# Langkah 1: Import Library\n",
        "import tensorflow as tf\n",
        "from tensorflow import keras\n",
        "from tensorflow.keras import layers\n",
        "import matplotlib.pyplot as plt"
      ],
      "metadata": {
        "id": "HUraGrLtWMlT"
      },
      "execution_count": null,
      "outputs": []
    },
    {
      "cell_type": "code",
      "source": [
        "# Langkah 2: Load Dataset MNIST\n",
        "mnist = keras.datasets.mnist\n",
        "(train_images, train_labels), (test_images, test_labels) = mnist.load_data()"
      ],
      "metadata": {
        "colab": {
          "base_uri": "https://localhost:8080/"
        },
        "id": "xMvX6ppwWPj0",
        "outputId": "de4a57c9-cc82-4f18-d780-12046f2a18d2"
      },
      "execution_count": null,
      "outputs": [
        {
          "output_type": "stream",
          "name": "stdout",
          "text": [
            "Downloading data from https://storage.googleapis.com/tensorflow/tf-keras-datasets/mnist.npz\n",
            "11490434/11490434 [==============================] - 0s 0us/step\n"
          ]
        }
      ]
    },
    {
      "cell_type": "code",
      "source": [
        "# Langkah 3: Pra Pengolahan Data\n",
        "train_images = train_images.reshape(-1, 28*28)\n",
        "test_images = test_images.reshape(-1, 28*28)\n",
        "\n",
        "train_images = train_images / 255.0\n",
        "test_images = test_images / 255.0"
      ],
      "metadata": {
        "id": "jBNXGs6wWSqF"
      },
      "execution_count": null,
      "outputs": []
    },
    {
      "cell_type": "code",
      "source": [
        "# Langkah 4: Arsitektur ANN\n",
        "model = keras.Sequential([\n",
        "    layers.Dense(128, activation='relu', input_shape=(784,)),\n",
        "    layers.Dense(64, activation='relu'),\n",
        "    layers.Dense(10, activation='softmax')\n",
        "])"
      ],
      "metadata": {
        "id": "b2t2OQcvWWMq"
      },
      "execution_count": null,
      "outputs": []
    },
    {
      "cell_type": "code",
      "source": [
        "# Langkah 5: Kompilasi Model\n",
        "model.compile(optimizer='adam',\n",
        "              loss='sparse_categorical_crossentropy',\n",
        "              metrics=['accuracy'])"
      ],
      "metadata": {
        "id": "XuiaM2p3WXYk"
      },
      "execution_count": null,
      "outputs": []
    },
    {
      "cell_type": "code",
      "source": [
        "# Langkah 6: Pelatihan Model\n",
        "model.fit(train_images, train_labels, epochs=10, validation_split=0.2)"
      ],
      "metadata": {
        "colab": {
          "base_uri": "https://localhost:8080/"
        },
        "id": "a92NcaAcWbVp",
        "outputId": "fabf78f2-d741-4fa9-c06a-4af3e26e73cd"
      },
      "execution_count": null,
      "outputs": [
        {
          "output_type": "stream",
          "name": "stdout",
          "text": [
            "Epoch 1/10\n",
            "1500/1500 [==============================] - 8s 5ms/step - loss: 0.2680 - accuracy: 0.9222 - val_loss: 0.1384 - val_accuracy: 0.9592\n",
            "Epoch 2/10\n",
            "1500/1500 [==============================] - 9s 6ms/step - loss: 0.1114 - accuracy: 0.9662 - val_loss: 0.1214 - val_accuracy: 0.9639\n",
            "Epoch 3/10\n",
            "1500/1500 [==============================] - 6s 4ms/step - loss: 0.0753 - accuracy: 0.9769 - val_loss: 0.1140 - val_accuracy: 0.9646\n",
            "Epoch 4/10\n",
            "1500/1500 [==============================] - 8s 5ms/step - loss: 0.0571 - accuracy: 0.9822 - val_loss: 0.1023 - val_accuracy: 0.9732\n",
            "Epoch 5/10\n",
            "1500/1500 [==============================] - 7s 4ms/step - loss: 0.0439 - accuracy: 0.9859 - val_loss: 0.1337 - val_accuracy: 0.9622\n",
            "Epoch 6/10\n",
            "1500/1500 [==============================] - 8s 6ms/step - loss: 0.0360 - accuracy: 0.9880 - val_loss: 0.1035 - val_accuracy: 0.9732\n",
            "Epoch 7/10\n",
            "1500/1500 [==============================] - 6s 4ms/step - loss: 0.0300 - accuracy: 0.9899 - val_loss: 0.1049 - val_accuracy: 0.9732\n",
            "Epoch 8/10\n",
            "1500/1500 [==============================] - 7s 5ms/step - loss: 0.0237 - accuracy: 0.9923 - val_loss: 0.1018 - val_accuracy: 0.9762\n",
            "Epoch 9/10\n",
            "1500/1500 [==============================] - 6s 4ms/step - loss: 0.0209 - accuracy: 0.9931 - val_loss: 0.1029 - val_accuracy: 0.9747\n",
            "Epoch 10/10\n",
            "1500/1500 [==============================] - 7s 5ms/step - loss: 0.0185 - accuracy: 0.9937 - val_loss: 0.1163 - val_accuracy: 0.9743\n"
          ]
        },
        {
          "output_type": "execute_result",
          "data": {
            "text/plain": [
              "<keras.src.callbacks.History at 0x7bbbd422d390>"
            ]
          },
          "metadata": {},
          "execution_count": 44
        }
      ]
    },
    {
      "cell_type": "code",
      "source": [
        "# Langkah 7: Evaluasi Model\n",
        "test_loss, test_accuracy = model.evaluate(test_images, test_labels)\n",
        "print(\"Test accuracy: {:.4f}\".format(test_accuracy))\n"
      ],
      "metadata": {
        "colab": {
          "base_uri": "https://localhost:8080/"
        },
        "id": "eG9_QoP9W23k",
        "outputId": "1d8b4b04-e46f-4e40-b812-528d93f6c958"
      },
      "execution_count": null,
      "outputs": [
        {
          "output_type": "stream",
          "name": "stdout",
          "text": [
            "313/313 [==============================] - 1s 2ms/step - loss: 0.1053 - accuracy: 0.9737\n",
            "Test accuracy: 0.9737\n"
          ]
        }
      ]
    },
    {
      "cell_type": "code",
      "source": [
        "# Langkah 8: Confusion Matrix\n",
        "from sklearn.metrics import confusion_matrix\n",
        "\n",
        "predicted_labels = model.predict(test_images)\n",
        "predicted_labels = [tf.argmax(label).numpy() for label in predicted_labels]\n",
        "\n",
        "confusion = confusion_matrix(test_labels, predicted_labels)\n",
        "print(confusion)"
      ],
      "metadata": {
        "colab": {
          "base_uri": "https://localhost:8080/"
        },
        "id": "qdPfaxx9W7dL",
        "outputId": "38b9fad5-7afd-4b1f-f817-be0be456d08c"
      },
      "execution_count": null,
      "outputs": [
        {
          "output_type": "stream",
          "name": "stdout",
          "text": [
            "313/313 [==============================] - 1s 2ms/step\n",
            "[[ 974    1    0    2    0    0    0    1    2    0]\n",
            " [   0 1117    2    2    0    1    2    0   10    1]\n",
            " [   7    3 1000    8    3    0    1    5    5    0]\n",
            " [   1    0    4  990    1    8    0    3    0    3]\n",
            " [   1    2    2    1  958    1    3    1    3   10]\n",
            " [   3    0    1    7    1  870    3    0    4    3]\n",
            " [   7    2    0    1    4    6  935    0    3    0]\n",
            " [   2    5    8    9    2    0    0  994    1    7]\n",
            " [   2    0    9   16    2    6    3    4  926    6]\n",
            " [   5    2    0   10    5    6    2    4    2  973]]\n"
          ]
        }
      ]
    },
    {
      "cell_type": "markdown",
      "source": [
        "Hasil :\n",
        "1. Akurasi :   \n",
        "- Akurasi model pada data pengujian adalah sekitar 97.76%.\n",
        "Akurasi mengukur sejauh mana model ANN dapat mengklasifikasikan digit-digit pada dataset MNIST dengan benar.\n",
        "- Akurasi 97.76% menunjukkan bahwa model mampu mengenali sebagian besar digit dengan tingkat keberhasilan yang tinggi.\n",
        "\n",
        "2. Confusion Matrix:\n",
        "\n",
        "![image.png](data:image/png;base64,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)\n",
        "\n",
        "- Confusion matrix adalah sebuah tabel berukuran 10x10 yang digunakan untuk mengevaluasi kinerja model dalam mengklasifikasikan digit-digit dari dataset MNIST.\n",
        "- Diagonal utama yang berjalan dari kiri atas ke kanan bawah mencerminkan jumlah prediksi yang benar untuk setiap kelas (digit 0 hingga 9).\n",
        "- Diagonal yang berlawanan menunjukkan kesalahan prediksi, contohnya, baris pertama dan kolom kedua (1st row, 2nd column) menggambarkan jumlah gambar digit 0 yang salah diprediksi sebagai digit 1.\n",
        "- Angka-angka dalam matriks ini merepresentasikan jumlah gambar yang diklasifikasikan dengan benar (true positives) dan yang salah (false positives dan false negatives).\n",
        "\n",
        "3. Konfigurasi Model:\n",
        "- Pra Pengolahan Data:\n",
        "Citra-citra dari dataset MNIST dilatih setelah diubah menjadi vektor 1D dan dinormalisasi agar berada dalam rentang 0 hingga 1.\n",
        "\n",
        "- Arsitektur ANN:\n",
        "- Model menggunakan arsitektur ANN dengan tiga lapisan, yaitu satu lapisan input, dua lapisan tersembunyi, dan satu lapisan output.\n",
        "- Input layer memiliki 784 unit (28x28 piksel) dan fungsi aktivasi ReLU.\n",
        "- Hidden layer pertama memiliki 128 unit dengan aktivasi ReLU.\n",
        "- Hidden layer kedua memiliki 64 unit dengan aktivasi ReLU.\n",
        "- Output layer memiliki 10 unit (sesuai dengan jumlah kelas digit) dengan aktivasi softmax.\n",
        "\n",
        "Pelatihan Model:\n",
        "\n",
        "Model dilatih selama 10 epoch dengan menggunakan optimizer 'adam', loss function 'sparse_categorical_crossentropy' (karena ini adalah masalah klasifikasi multikelas), dan metrik akurasi.\n",
        "\n",
        "Hasil :    \n",
        "Hasil pengujian menunjukkan bahwa model memiliki kemampuan yang sangat baik dalam mengklasifikasikan digit-digit MNIST, dengan tingkat akurasi sekitar 97,76%.\n"
      ],
      "metadata": {
        "id": "NHORyhflW_TV"
      }
    }
  ]
}