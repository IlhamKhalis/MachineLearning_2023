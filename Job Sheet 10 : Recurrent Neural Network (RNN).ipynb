{
  "nbformat": 4,
  "nbformat_minor": 0,
  "metadata": {
    "colab": {
      "provenance": [],
      "include_colab_link": true
    },
    "kernelspec": {
      "name": "python3",
      "display_name": "Python 3"
    },
    "language_info": {
      "name": "python"
    }
  },
  "cells": [
    {
      "cell_type": "markdown",
      "metadata": {
        "id": "view-in-github",
        "colab_type": "text"
      },
      "source": [
        "<a href=\"https://colab.research.google.com/github/IlhamKhalis/MachineLearning_2023/blob/main/Job%20Sheet%2010%20%3A%20Recurrent%20Neural%20Network%20(RNN).ipynb\" target=\"_parent\"><img src=\"https://colab.research.google.com/assets/colab-badge.svg\" alt=\"Open In Colab\"/></a>"
      ]
    },
    {
      "cell_type": "markdown",
      "source": [
        "NAMA : Muhammad Bagas Ramadhan\n",
        "\n",
        "KELAS : TI - 3G\n",
        "\n",
        "NIM : 2141720120\n",
        "\n",
        "Link GitHub : https://github.com/bagasyramadhan/MachineLearning_2023/blob/main/RRN_MachineLearning_Muhammad_Bagas_Ramadhan.ipynb"
      ],
      "metadata": {
        "id": "y95Au4eQ5LoW"
      }
    },
    {
      "cell_type": "markdown",
      "source": [
        "**Job Sheet 10 : Recurrent Neural Network (RNN)**"
      ],
      "metadata": {
        "id": "r69b7MIy5bJB"
      }
    },
    {
      "cell_type": "markdown",
      "source": [
        "**PRAKTIKUM 1**\n",
        "\n",
        "RNN untuk Analisis Sentimen"
      ],
      "metadata": {
        "id": "kdVoHHM75guT"
      }
    },
    {
      "cell_type": "markdown",
      "source": [
        "Setup\n",
        "\n",
        "Impor matplotlib dan buat fungsi pembantu untuk memplot grafik:"
      ],
      "metadata": {
        "id": "TDDG7hX95mix"
      }
    },
    {
      "cell_type": "code",
      "execution_count": null,
      "metadata": {
        "id": "3q8_cIOr4kPI"
      },
      "outputs": [],
      "source": [
        "import numpy as np\n",
        "import tensorflow_datasets as tfds\n",
        "import tensorflow as tf\n",
        "\n",
        "tfds.disable_progress_bar()"
      ]
    },
    {
      "cell_type": "code",
      "source": [
        "import matplotlib.pyplot as plt\n",
        "\n",
        "def plot_graphs(history, metric):\n",
        "  plt.plot(history.history[metric])\n",
        "  plt.plot(history.history['val_'+metric], '')\n",
        "  plt.xlabel(\"Epochs\")\n",
        "  plt.ylabel(metric)\n",
        "  plt.legend([metric, 'val_'+metric])"
      ],
      "metadata": {
        "id": "RiRfbKa56Cnk"
      },
      "execution_count": null,
      "outputs": []
    },
    {
      "cell_type": "markdown",
      "source": [
        "Setup input pipeline\n",
        "\n",
        "Dataset ulasan film IMDB adalah kumpulan data klasifikasi biner—semua ulasan memiliki sentimen positif atau negatif."
      ],
      "metadata": {
        "id": "hZ07CAYm6fpa"
      }
    },
    {
      "cell_type": "code",
      "source": [
        "dataset, info = tfds.load('imdb_reviews', with_info=True,\n",
        "                          as_supervised=True)\n",
        "train_dataset, test_dataset = dataset['train'], dataset['test']\n",
        "\n",
        "train_dataset.element_spec"
      ],
      "metadata": {
        "colab": {
          "base_uri": "https://localhost:8080/"
        },
        "id": "A-y0lBMS6m8g",
        "outputId": "835ee52f-479e-4d03-d2a2-029ae5611c88"
      },
      "execution_count": null,
      "outputs": [
        {
          "output_type": "stream",
          "name": "stdout",
          "text": [
            "Downloading and preparing dataset 80.23 MiB (download: 80.23 MiB, generated: Unknown size, total: 80.23 MiB) to /root/tensorflow_datasets/imdb_reviews/plain_text/1.0.0...\n",
            "Dataset imdb_reviews downloaded and prepared to /root/tensorflow_datasets/imdb_reviews/plain_text/1.0.0. Subsequent calls will reuse this data.\n"
          ]
        },
        {
          "output_type": "execute_result",
          "data": {
            "text/plain": [
              "(TensorSpec(shape=(), dtype=tf.string, name=None),\n",
              " TensorSpec(shape=(), dtype=tf.int64, name=None))"
            ]
          },
          "metadata": {},
          "execution_count": 3
        }
      ]
    },
    {
      "cell_type": "markdown",
      "source": [
        "Awalnya ini mengembalikan dataset (teks, pasangan label):"
      ],
      "metadata": {
        "id": "-OIDiKU36sVG"
      }
    },
    {
      "cell_type": "code",
      "source": [
        "for example, label in train_dataset.take(1):\n",
        "  print('text: ', example.numpy())\n",
        "  print('label: ', label.numpy())"
      ],
      "metadata": {
        "colab": {
          "base_uri": "https://localhost:8080/"
        },
        "id": "J25bMefp6u1X",
        "outputId": "de0f22cd-903b-4903-810c-e7f9755214c3"
      },
      "execution_count": null,
      "outputs": [
        {
          "output_type": "stream",
          "name": "stdout",
          "text": [
            "text:  b\"This was an absolutely terrible movie. Don't be lured in by Christopher Walken or Michael Ironside. Both are great actors, but this must simply be their worst role in history. Even their great acting could not redeem this movie's ridiculous storyline. This movie is an early nineties US propaganda piece. The most pathetic scenes were those when the Columbian rebels were making their cases for revolutions. Maria Conchita Alonso appeared phony, and her pseudo-love affair with Walken was nothing but a pathetic emotional plug in a movie that was devoid of any real meaning. I am disappointed that there are movies like this, ruining actor's like Christopher Walken's good name. I could barely sit through it.\"\n",
            "label:  0\n"
          ]
        }
      ]
    },
    {
      "cell_type": "markdown",
      "source": [
        "Berikutnya acak data untuk pelatihan dan membuat kumpulan pasangan (teks, label) ini:"
      ],
      "metadata": {
        "id": "fGxDDawB67ZT"
      }
    },
    {
      "cell_type": "code",
      "source": [
        "BUFFER_SIZE = 10000\n",
        "BATCH_SIZE = 64\n",
        "\n",
        "train_dataset = train_dataset.shuffle(BUFFER_SIZE).batch(BATCH_SIZE).prefetch(tf.data.AUTOTUNE)\n",
        "test_dataset = test_dataset.batch(BATCH_SIZE).prefetch(tf.data.AUTOTUNE)\n",
        "\n",
        "for example, label in train_dataset.take(1):\n",
        "  print('texts: ', example.numpy()[:3])\n",
        "  print()\n",
        "  print('labels: ', label.numpy()[:3])\n"
      ],
      "metadata": {
        "colab": {
          "base_uri": "https://localhost:8080/"
        },
        "id": "VOi346QH6_LF",
        "outputId": "de19b3b8-a892-4298-f6e2-137ae9a6f035"
      },
      "execution_count": null,
      "outputs": [
        {
          "output_type": "stream",
          "name": "stdout",
          "text": [
            "texts:  [b'I could barely keep myself from either nodding off or just turning off this turd, but I decided to stick it out if only for the reasoning that maybe *something* would happen. This is the work of a writer/producer/director/special fx, Kenneth Herts, who wants to make a statement on ecological damage while making a monster movie. That\\'s what he wanted, anyway. What it turns out to be is a lot of acting, either slightly hammy or just mundane and without much merit, and scenes that seem to repeat themselves as the monster ATTACKS in the river waters (oh, and what luck, a woman just happens to be naked in it... even though there have already been DISAPPEARANCES!) <br /><br />This is just nonsensical stuff, but I suppose it\\'s not too harmful; it\\'s not very obnoxious at the least and once or twice we get a semi-interesting peek at Brazilian \"culture\" (which is the father walking through town with his flock or other pieces of a semblance of \\'hey, this is NOT America!\\'). But whatever hope the director had in casting Mitchum or Carradine is squandered on at best pedestrian and at worst excruciatingly banal and dumb dialog. It doesn\\'t help that when we finally get something of a good look at the monster and the \"action\" happens, it too is stupidly staged and with only sleazy appeal. Usually I would feel sorry for a filmmaker who had a lot of problems getting a particular picture finished- in this case it took the better part of the mid 70s- but with Monstroid or Monster or whatever it\\'s called... nah.<br /><br />If you happen to get the Elvira DVD double-feature of this (bad print with bad transfer quality) with Blue Sunshine, make sure to skip this one. Unless, of course, you\\'re an Elvira die-hard and can\\'t help yourself to hear her luscious commentary; personally, I\\'d rather get Joel or Mike Nelson with the robots from Mystery Science Theater on this roast turkey.'\n",
            " b'Occasionally one is served a new entr\\xc3\\xa9e from foreign films. That is their great attraction. They take from life and serve it up raw. American films, rarely dare to touch the forbidden subjects of society. Too many hang-ups and a morbid fear of financial failure. The Almighty dollar, determines their selections. Something which invites European directors. In addition, audiences world wide remain hungry for \"different\" films, especially those which offer a savory bite out of the wretched, suffering body of humanity. Despite the fear of directors or producers, many audiences yearn for beauty, poetry, and the pristine flavor of life. That is what the film \"To the Left of the Father\" offers to curious audiences. A family locked in the belief that unity of family stems from the unity of it\\'s obedience to tradition. Yet when the patriarch of a family forgets it\\'s members are flesh and blood humans, filled with raging, unbridled dreams and dark passions, then the two are set in motions against itself. Selton Mello plays Andr\\xc3\\xa9 a son who seeks to control his inner passions with the stagnant philosophy of his father. Raul Cortez plays his Father. Simone Spoladore is Ana a young woman who seeks to quench a forbidden thirst from the family waters. Leonardo Medeiros is Pedro, the elder brother. The film offers much, but does takes an extremely inordinate amount of time to say it. ***'\n",
            " b'In 1692 Salem, a devious child\\'s lies about a slave\\'s involvement in witchcraft sends an entire community into an uproar. Costume drama starring Claudette Colbert and Fred MacMurray isn\\'t stuffy, though neither is it a vivid depiction of contagious hysteria. Worked on by three writers (Walter Ferris, Durward Grimstead, and Bradley King), the story elements are rather interesting (especially coming out of Hollywood in 1937), though to anyone who has since read Arthur Miller\\'s \"The Crucible\", the hoked-up melodrama on display here won\\'t be tolerated for very long. Biggest problem with the picture may lie in the casting: Colbert and MacMurray are an ill-matched pair of lovers hindered by the witch-hunt, MacMurray being far too contemporary a presence for these surroundings. *1/2 from ****']\n",
            "\n",
            "labels:  [0 0 0]\n"
          ]
        }
      ]
    },
    {
      "cell_type": "markdown",
      "source": [
        "**Buat Teks Encoder**\n",
        "\n",
        "Teks mentah yang dimuat oleh tfds perlu diproses sebelum dapat digunakan dalam model. Cara termudah memproses teks untuk pelatihan adalah menggunakan lapisan TextVectorization. Lapisan ini memiliki banyak kemampuan, namun pada tutorial ini menggunakan perilaku default. Buat lapisan tersebut, dan teruskan teks kumpulan data ke metode .adapt lapisan:"
      ],
      "metadata": {
        "id": "T6vWDUoX7Bbd"
      }
    },
    {
      "cell_type": "code",
      "source": [
        "VOCAB_SIZE = 1000\n",
        "encoder = tf.keras.layers.TextVectorization(\n",
        "    max_tokens=VOCAB_SIZE)\n",
        "encoder.adapt(train_dataset.map(lambda text, label: text))"
      ],
      "metadata": {
        "id": "jXOl4byO7H8d"
      },
      "execution_count": null,
      "outputs": []
    },
    {
      "cell_type": "markdown",
      "source": [
        "Metode .adapt mengatur kosakata lapisan. 20 token pertama dapat dilihat dengan kode berikut. Setelah padding dan token yang tidak diketahui, mereka diurutkan berdasarkan frekuensi:"
      ],
      "metadata": {
        "id": "zauG9J3m7K5I"
      }
    },
    {
      "cell_type": "code",
      "source": [
        "vocab = np.array(encoder.get_vocabulary())\n",
        "vocab[:20]"
      ],
      "metadata": {
        "colab": {
          "base_uri": "https://localhost:8080/"
        },
        "id": "Fa_u0K0_7QJu",
        "outputId": "31769426-4f99-4dce-b1d5-394a59c52e3f"
      },
      "execution_count": null,
      "outputs": [
        {
          "output_type": "execute_result",
          "data": {
            "text/plain": [
              "array(['', '[UNK]', 'the', 'and', 'a', 'of', 'to', 'is', 'in', 'it', 'i',\n",
              "       'this', 'that', 'br', 'was', 'as', 'for', 'with', 'movie', 'but'],\n",
              "      dtype='<U14')"
            ]
          },
          "metadata": {},
          "execution_count": 7
        }
      ]
    },
    {
      "cell_type": "markdown",
      "source": [
        "Setelah kosakata diatur, lapisan dapat mengkodekan teks ke dalam indeks. Tensor indeks diberi bantalan 0 ke urutan terpanjang dalam batch (kecuali jika Anda menetapkan output_sequence_length tetap):"
      ],
      "metadata": {
        "id": "uw6bXMfQ7V6s"
      }
    },
    {
      "cell_type": "code",
      "source": [
        "encoded_example = encoder(example)[:3].numpy()\n",
        "encoded_example"
      ],
      "metadata": {
        "colab": {
          "base_uri": "https://localhost:8080/"
        },
        "id": "V8nR65iJ7YCZ",
        "outputId": "99322d53-ae97-41a7-df23-637ee226a0ad"
      },
      "execution_count": null,
      "outputs": [
        {
          "output_type": "execute_result",
          "data": {
            "text/plain": [
              "array([[10, 96,  1, ...,  0,  0,  0],\n",
              "       [ 1, 29,  7, ...,  0,  0,  0],\n",
              "       [ 8,  1,  1, ...,  0,  0,  0]])"
            ]
          },
          "metadata": {},
          "execution_count": 8
        }
      ]
    },
    {
      "cell_type": "markdown",
      "source": [
        "Dengan pengaturan default, prosesnya tidak dapat dibalik sepenuhnya. Ada dua alasan utama untuk itu:\n",
        "-Nilai default untuk argumen standarisasi preprocessing.TextVectorization adalah \"lower_and_strip_punctuation\".\n",
        "-Ukuran kosa kata yang terbatas dan kurangnya fallback berbasis karakter menghasilkan beberapa token yang tidak diketahui."
      ],
      "metadata": {
        "id": "uqgmrJh97hOR"
      }
    },
    {
      "cell_type": "code",
      "source": [
        "for n in range(3):\n",
        "  print(\"Original: \", example[n].numpy())\n",
        "  print(\"Round-trip: \", \" \".join(vocab[encoded_example[n]]))\n",
        "  print()"
      ],
      "metadata": {
        "colab": {
          "base_uri": "https://localhost:8080/"
        },
        "id": "3qFyeLSw7lML",
        "outputId": "8cb7653f-1628-4ea8-b96c-24cbb15b9ef0"
      },
      "execution_count": null,
      "outputs": [
        {
          "output_type": "stream",
          "name": "stdout",
          "text": [
            "Original:  b'I could barely keep myself from either nodding off or just turning off this turd, but I decided to stick it out if only for the reasoning that maybe *something* would happen. This is the work of a writer/producer/director/special fx, Kenneth Herts, who wants to make a statement on ecological damage while making a monster movie. That\\'s what he wanted, anyway. What it turns out to be is a lot of acting, either slightly hammy or just mundane and without much merit, and scenes that seem to repeat themselves as the monster ATTACKS in the river waters (oh, and what luck, a woman just happens to be naked in it... even though there have already been DISAPPEARANCES!) <br /><br />This is just nonsensical stuff, but I suppose it\\'s not too harmful; it\\'s not very obnoxious at the least and once or twice we get a semi-interesting peek at Brazilian \"culture\" (which is the father walking through town with his flock or other pieces of a semblance of \\'hey, this is NOT America!\\'). But whatever hope the director had in casting Mitchum or Carradine is squandered on at best pedestrian and at worst excruciatingly banal and dumb dialog. It doesn\\'t help that when we finally get something of a good look at the monster and the \"action\" happens, it too is stupidly staged and with only sleazy appeal. Usually I would feel sorry for a filmmaker who had a lot of problems getting a particular picture finished- in this case it took the better part of the mid 70s- but with Monstroid or Monster or whatever it\\'s called... nah.<br /><br />If you happen to get the Elvira DVD double-feature of this (bad print with bad transfer quality) with Blue Sunshine, make sure to skip this one. Unless, of course, you\\'re an Elvira die-hard and can\\'t help yourself to hear her luscious commentary; personally, I\\'d rather get Joel or Mike Nelson with the robots from Mystery Science Theater on this roast turkey.'\n",
            "Round-trip:  i could [UNK] keep myself from either [UNK] off or just [UNK] off this [UNK] but i decided to [UNK] it out if only for the [UNK] that maybe something would happen this is the work of a [UNK] [UNK] [UNK] [UNK] who wants to make a [UNK] on [UNK] [UNK] while making a monster movie thats what he wanted anyway what it turns out to be is a lot of acting either [UNK] [UNK] or just [UNK] and without much [UNK] and scenes that seem to [UNK] themselves as the monster [UNK] in the [UNK] [UNK] oh and what [UNK] a woman just happens to be [UNK] in it even though there have already been [UNK] br br this is just [UNK] stuff but i [UNK] its not too [UNK] its not very [UNK] at the least and once or [UNK] we get a [UNK] [UNK] at [UNK] [UNK] which is the father [UNK] through town with his [UNK] or other [UNK] of a [UNK] of [UNK] this is not america but whatever hope the director had in casting [UNK] or [UNK] is [UNK] on at best [UNK] and at worst [UNK] [UNK] and dumb dialog it doesnt help that when we finally get something of a good look at the monster and the action happens it too is [UNK] [UNK] and with only [UNK] [UNK] usually i would feel sorry for a [UNK] who had a lot of problems getting a particular picture [UNK] in this case it took the better part of the [UNK] 70s but with [UNK] or monster or whatever its called [UNK] br if you happen to get the [UNK] dvd [UNK] of this bad [UNK] with bad [UNK] quality with [UNK] [UNK] make sure to [UNK] this one unless of course youre an [UNK] [UNK] and cant help yourself to hear her [UNK] [UNK] [UNK] id rather get [UNK] or [UNK] [UNK] with the [UNK] from mystery [UNK] theater on this [UNK] [UNK]                                                                                                                                                                                                                        \n",
            "\n",
            "Original:  b'Occasionally one is served a new entr\\xc3\\xa9e from foreign films. That is their great attraction. They take from life and serve it up raw. American films, rarely dare to touch the forbidden subjects of society. Too many hang-ups and a morbid fear of financial failure. The Almighty dollar, determines their selections. Something which invites European directors. In addition, audiences world wide remain hungry for \"different\" films, especially those which offer a savory bite out of the wretched, suffering body of humanity. Despite the fear of directors or producers, many audiences yearn for beauty, poetry, and the pristine flavor of life. That is what the film \"To the Left of the Father\" offers to curious audiences. A family locked in the belief that unity of family stems from the unity of it\\'s obedience to tradition. Yet when the patriarch of a family forgets it\\'s members are flesh and blood humans, filled with raging, unbridled dreams and dark passions, then the two are set in motions against itself. Selton Mello plays Andr\\xc3\\xa9 a son who seeks to control his inner passions with the stagnant philosophy of his father. Raul Cortez plays his Father. Simone Spoladore is Ana a young woman who seeks to quench a forbidden thirst from the family waters. Leonardo Medeiros is Pedro, the elder brother. The film offers much, but does takes an extremely inordinate amount of time to say it. ***'\n",
            "Round-trip:  [UNK] one is [UNK] a new [UNK] from [UNK] films that is their great [UNK] they take from life and [UNK] it up [UNK] american films [UNK] [UNK] to [UNK] the [UNK] [UNK] of society too many [UNK] and a [UNK] [UNK] of [UNK] [UNK] the [UNK] [UNK] [UNK] their [UNK] something which [UNK] [UNK] directors in [UNK] [UNK] world [UNK] [UNK] [UNK] for different films especially those which [UNK] a [UNK] [UNK] out of the [UNK] [UNK] body of [UNK] despite the [UNK] of directors or [UNK] many [UNK] [UNK] for beauty [UNK] and the [UNK] [UNK] of life that is what the film to the left of the father [UNK] to [UNK] [UNK] a family [UNK] in the [UNK] that [UNK] of family [UNK] from the [UNK] of its [UNK] to [UNK] yet when the [UNK] of a family [UNK] its [UNK] are [UNK] and blood [UNK] [UNK] with [UNK] [UNK] [UNK] and dark [UNK] then the two are set in [UNK] against itself [UNK] [UNK] plays [UNK] a son who [UNK] to [UNK] his [UNK] [UNK] with the [UNK] [UNK] of his father [UNK] [UNK] plays his father [UNK] [UNK] is [UNK] a young woman who [UNK] to [UNK] a [UNK] [UNK] from the family [UNK] [UNK] [UNK] is [UNK] the [UNK] brother the film [UNK] much but does takes an extremely [UNK] [UNK] of time to say it                                                                                                                                                                                                                                                                                                                          \n",
            "\n",
            "Original:  b'In 1692 Salem, a devious child\\'s lies about a slave\\'s involvement in witchcraft sends an entire community into an uproar. Costume drama starring Claudette Colbert and Fred MacMurray isn\\'t stuffy, though neither is it a vivid depiction of contagious hysteria. Worked on by three writers (Walter Ferris, Durward Grimstead, and Bradley King), the story elements are rather interesting (especially coming out of Hollywood in 1937), though to anyone who has since read Arthur Miller\\'s \"The Crucible\", the hoked-up melodrama on display here won\\'t be tolerated for very long. Biggest problem with the picture may lie in the casting: Colbert and MacMurray are an ill-matched pair of lovers hindered by the witch-hunt, MacMurray being far too contemporary a presence for these surroundings. *1/2 from ****'\n",
            "Round-trip:  in [UNK] [UNK] a [UNK] [UNK] [UNK] about a [UNK] [UNK] in [UNK] [UNK] an entire [UNK] into an [UNK] [UNK] drama [UNK] [UNK] [UNK] and [UNK] [UNK] isnt [UNK] though [UNK] is it a [UNK] [UNK] of [UNK] [UNK] worked on by three writers [UNK] [UNK] [UNK] [UNK] and [UNK] king the story elements are rather interesting especially coming out of hollywood in [UNK] though to anyone who has since read [UNK] [UNK] the [UNK] the [UNK] [UNK] on [UNK] here wont be [UNK] for very long [UNK] problem with the picture may [UNK] in the casting [UNK] and [UNK] are an [UNK] [UNK] of [UNK] [UNK] by the [UNK] [UNK] being far too [UNK] a [UNK] for these [UNK] [UNK] from                                                                                                                                                                                                                                                                                                                                                                                                                                       \n",
            "\n"
          ]
        }
      ]
    },
    {
      "cell_type": "markdown",
      "source": [
        "**Buat Model**\n",
        "\n",
        "![Screenshot 2023-11-09 185448.png](data:image/png;base64,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)"
      ],
      "metadata": {
        "id": "NR6rII7T7qlJ"
      }
    },
    {
      "cell_type": "markdown",
      "source": [
        "diagram model dapat dilihat pada gambar diatas\n",
        "\n",
        "1. Model ini dapat dibuat sebagai tf.keras.Sequential.\n",
        "2. Lapisan pertama adalah encoder, yang mengubah teks menjadi urutan indeks token.\n",
        "3. Setelah encoder adalah lapisan penyematan (embedding layer). Lapisan penyematan menyimpan satu vektor per kata. Saat dipanggil, ini mengubah rangkaian indeks kata menjadi rangkaian vektor. Vektor-vektor ini dapat dilatih. Setelah pelatihan (dengan data yang cukup), kata-kata dengan arti yang mirip sering kali memiliki vektor yang serupa. Pencarian indeks ini jauh lebih efisien daripada operasi setara dengan meneruskan vektor yang disandikan one-hot melalui lapisan tf.keras.layers.Dense.\n",
        "4. Jaringan saraf berulang (RNN) memproses masukan urutan dengan melakukan iterasi melalui elemen. RNN meneruskan keluaran dari satu langkah waktu ke masukannya pada langkah waktu berikutnya.\n",
        "Pembungkus tf.keras.layers.Bidirection juga dapat digunakan dengan lapisan RNN. Ini menyebarkan masukan maju dan mundur melalui lapisan RNN dan kemudian menggabungkan keluaran akhir.\n",
        "\n",
        " -Keuntungan utama RNN dua arah adalah sinyal dari awal masukan tidak perlu diproses sepanjang waktu untuk memengaruhi keluaran.\n",
        "\n",
        " -Kerugian utama dari RNN dua arah adalah Anda tidak dapat melakukan streaming prediksi secara efisien saat kata-kata ditambahkan di akhir.\n",
        "5. Setelah RNN mengonversi urutan menjadi satu vektor, kedua lapisan tersebut.Dense melakukan beberapa pemrosesan akhir, dan mengonversi representasi vektor ini menjadi logit tunggal sebagai keluaran klasifikasi."
      ],
      "metadata": {
        "id": "cPOsQ4aN765j"
      }
    },
    {
      "cell_type": "code",
      "source": [
        "model = tf.keras.Sequential([\n",
        "    encoder,\n",
        "    tf.keras.layers.Embedding(\n",
        "        input_dim=len(encoder.get_vocabulary()),\n",
        "        output_dim=64,\n",
        "        # Use masking to handle the variable sequence lengths\n",
        "        mask_zero=True),\n",
        "    tf.keras.layers.Bidirectional(tf.keras.layers.LSTM(64)),\n",
        "    tf.keras.layers.Dense(64, activation='relu'),\n",
        "    tf.keras.layers.Dense(1)\n",
        "])"
      ],
      "metadata": {
        "id": "1rF50AaR8Psj"
      },
      "execution_count": null,
      "outputs": []
    },
    {
      "cell_type": "code",
      "source": [
        "print([layer.supports_masking for layer in model.layers])"
      ],
      "metadata": {
        "colab": {
          "base_uri": "https://localhost:8080/"
        },
        "id": "TbTTv1CQ8UMP",
        "outputId": "352f7e64-4499-484f-f4d9-a28521cd4f18"
      },
      "execution_count": null,
      "outputs": [
        {
          "output_type": "stream",
          "name": "stdout",
          "text": [
            "[False, True, True, True, True]\n"
          ]
        }
      ]
    },
    {
      "cell_type": "markdown",
      "source": [
        "Untuk memastikan bahwa ini berfungsi seperti yang diharapkan, evaluasi sebuah kalimat dua kali. Pertama, satu kalimat sehingga tidak ada bantalan (padding) untuk disamarkan:"
      ],
      "metadata": {
        "id": "kBJnrrbg8hvk"
      }
    },
    {
      "cell_type": "code",
      "source": [
        "# predict on a sample text without padding.\n",
        "\n",
        "sample_text = ('The movie was cool. The animation and the graphics '\n",
        "               'were out of this world. I would recommend this movie.')\n",
        "predictions = model.predict(np.array([sample_text]))\n",
        "print(predictions[0])"
      ],
      "metadata": {
        "colab": {
          "base_uri": "https://localhost:8080/"
        },
        "id": "ZE-dE1Cc8hXL",
        "outputId": "598f56ad-400f-4cf6-cb15-4ae89037199b"
      },
      "execution_count": null,
      "outputs": [
        {
          "output_type": "stream",
          "name": "stdout",
          "text": [
            "1/1 [==============================] - 3s 3s/step\n",
            "[-0.00904926]\n"
          ]
        }
      ]
    },
    {
      "cell_type": "markdown",
      "source": [
        "Sekarang, evaluasi lagi dalam batch dengan kalimat yang lebih panjang. Hasilnya harus sama:"
      ],
      "metadata": {
        "id": "pNKUQYYb8nX8"
      }
    },
    {
      "cell_type": "code",
      "source": [
        "# predict on a sample text with padding\n",
        "\n",
        "padding = \"the \" * 2000\n",
        "predictions = model.predict(np.array([sample_text, padding]))\n",
        "print(predictions[0])"
      ],
      "metadata": {
        "colab": {
          "base_uri": "https://localhost:8080/"
        },
        "id": "yCuXPvIo8oln",
        "outputId": "d2174e91-dc04-4d88-e748-47664ddda825"
      },
      "execution_count": null,
      "outputs": [
        {
          "output_type": "stream",
          "name": "stdout",
          "text": [
            "1/1 [==============================] - 0s 406ms/step\n",
            "[-0.00904926]\n"
          ]
        }
      ]
    },
    {
      "cell_type": "markdown",
      "source": [
        "compile model Keras untuk mengonfigurasi proses pelatihan:"
      ],
      "metadata": {
        "id": "TTiUvIHG8qZM"
      }
    },
    {
      "cell_type": "code",
      "source": [
        "model.compile(loss=tf.keras.losses.BinaryCrossentropy(from_logits=True),\n",
        "              optimizer=tf.keras.optimizers.Adam(1e-4),\n",
        "              metrics=['accuracy'])"
      ],
      "metadata": {
        "id": "4kD0qUoS8sQF"
      },
      "execution_count": null,
      "outputs": []
    },
    {
      "cell_type": "markdown",
      "source": [
        "**Train Model**"
      ],
      "metadata": {
        "id": "xNQS9i9E8u0J"
      }
    },
    {
      "cell_type": "code",
      "source": [
        "history = model.fit(train_dataset, epochs=10,\n",
        "                    validation_data=test_dataset,\n",
        "                    validation_steps=30)"
      ],
      "metadata": {
        "id": "M4zoYL-0YVAx",
        "colab": {
          "base_uri": "https://localhost:8080/"
        },
        "outputId": "b6d4e56f-99cc-4e4c-ed16-01d697ec473c"
      },
      "execution_count": null,
      "outputs": [
        {
          "output_type": "stream",
          "name": "stdout",
          "text": [
            "Epoch 1/10\n",
            "391/391 [==============================] - 804s 2s/step - loss: 0.6393 - accuracy: 0.5613 - val_loss: 0.6019 - val_accuracy: 0.5437\n",
            "Epoch 2/10\n",
            "391/391 [==============================] - 780s 2s/step - loss: 0.4221 - accuracy: 0.8018 - val_loss: 0.3930 - val_accuracy: 0.8177\n",
            "Epoch 3/10\n",
            "391/391 [==============================] - 779s 2s/step - loss: 0.3581 - accuracy: 0.8391 - val_loss: 0.3816 - val_accuracy: 0.8135\n",
            "Epoch 4/10\n",
            "391/391 [==============================] - 789s 2s/step - loss: 0.3321 - accuracy: 0.8533 - val_loss: 0.3312 - val_accuracy: 0.8568\n",
            "Epoch 5/10\n",
            "391/391 [==============================] - 786s 2s/step - loss: 0.3184 - accuracy: 0.8618 - val_loss: 0.3312 - val_accuracy: 0.8573\n",
            "Epoch 6/10\n",
            "391/391 [==============================] - 743s 2s/step - loss: 0.3113 - accuracy: 0.8662 - val_loss: 0.3260 - val_accuracy: 0.8479\n",
            "Epoch 7/10\n",
            "391/391 [==============================] - 733s 2s/step - loss: 0.3052 - accuracy: 0.8678 - val_loss: 0.3200 - val_accuracy: 0.8583\n",
            "Epoch 8/10\n",
            "391/391 [==============================] - 749s 2s/step - loss: 0.3047 - accuracy: 0.8686 - val_loss: 0.3315 - val_accuracy: 0.8521\n",
            "Epoch 9/10\n",
            "391/391 [==============================] - 737s 2s/step - loss: 0.3014 - accuracy: 0.8710 - val_loss: 0.3227 - val_accuracy: 0.8510\n",
            "Epoch 10/10\n",
            "391/391 [==============================] - 740s 2s/step - loss: 0.3005 - accuracy: 0.8709 - val_loss: 0.3257 - val_accuracy: 0.8589\n"
          ]
        }
      ]
    },
    {
      "cell_type": "code",
      "source": [
        "test_loss, test_acc = model.evaluate(test_dataset)\n",
        "\n",
        "print('Test Loss:', test_loss)\n",
        "print('Test Accuracy:', test_acc)"
      ],
      "metadata": {
        "colab": {
          "base_uri": "https://localhost:8080/"
        },
        "id": "RIa9I6Wu8192",
        "outputId": "b0300414-b52c-4445-fece-47a7d30b87a5"
      },
      "execution_count": null,
      "outputs": [
        {
          "output_type": "stream",
          "name": "stdout",
          "text": [
            "391/391 [==============================] - 178s 454ms/step - loss: 0.3236 - accuracy: 0.8621\n",
            "Test Loss: 0.3235826790332794\n",
            "Test Accuracy: 0.8621199727058411\n"
          ]
        }
      ]
    },
    {
      "cell_type": "code",
      "source": [
        "plt.figure(figsize=(16, 8))\n",
        "plt.subplot(1, 2, 1)\n",
        "plot_graphs(history, 'accuracy')\n",
        "plt.ylim(None, 1)\n",
        "plt.subplot(1, 2, 2)\n",
        "plot_graphs(history, 'loss')\n",
        "plt.ylim(0, None)"
      ],
      "metadata": {
        "colab": {
          "base_uri": "https://localhost:8080/",
          "height": 718
        },
        "id": "wE85KMMt90BO",
        "outputId": "d8043025-12e0-4589-b581-735e834b6f2b"
      },
      "execution_count": null,
      "outputs": [
        {
          "output_type": "execute_result",
          "data": {
            "text/plain": [
              "(0.0, 0.656202743947506)"
            ]
          },
          "metadata": {},
          "execution_count": 17
        },
        {
          "output_type": "display_data",
          "data": {
            "text/plain": [
              "<Figure size 1600x800 with 2 Axes>"
            ],
            "image/png": "[encoded data removed]"
          },
          "metadata": {}
        }
      ]
    },
    {
      "cell_type": "markdown",
      "source": [
        "Jalankan prediksi pada kalimat baru:\n",
        "\n",
        "Jika prediksi >= 0,0 berarti positif, jika tidak maka negatif."
      ],
      "metadata": {
        "id": "41W6K32cXkxU"
      }
    },
    {
      "cell_type": "code",
      "source": [
        "sample_text = ('The movie was cool. The animation and the graphics '\n",
        "'were out of this world. I would recommend this movie.')\n",
        "predictions = model.predict(np.array([sample_text]))"
      ],
      "metadata": {
        "colab": {
          "base_uri": "https://localhost:8080/"
        },
        "id": "V0kOAMAzXnFl",
        "outputId": "ce5516be-1080-4f96-bf40-42f210bc3fb2"
      },
      "execution_count": null,
      "outputs": [
        {
          "output_type": "stream",
          "name": "stdout",
          "text": [
            "1/1 [==============================] - 3s 3s/step\n"
          ]
        }
      ]
    },
    {
      "cell_type": "markdown",
      "source": [
        "**Stack two or more LSTM layers**"
      ],
      "metadata": {
        "id": "ntdTETtQXrrv"
      }
    },
    {
      "cell_type": "code",
      "source": [
        "model = tf.keras.Sequential([\n",
        "     encoder,\n",
        "     tf.keras.layers.Embedding(len(encoder.get_vocabulary()), 64, mask_zero=True),\n",
        "     tf.keras.layers.Bidirectional(tf.keras.layers.LSTM(64, return_sequences=True)),\n",
        "     tf.keras.layers.Bidirectional(tf.keras.layers.LSTM(32)),\n",
        "     tf.keras.layers.Dense(64, activation='relu'),\n",
        "     tf.keras.layers.Dropout(0.5),\n",
        "     tf.keras.layers.Dense(1)\n",
        "])"
      ],
      "metadata": {
        "id": "7uswVzQCXwnG"
      },
      "execution_count": null,
      "outputs": []
    },
    {
      "cell_type": "code",
      "source": [
        "model.compile(loss=tf.keras.losses.BinaryCrossentropy(from_logits=True),\n",
        "              optimizer=tf.keras.optimizers.Adam(1e-4),\n",
        "              metrics=['accuracy'])"
      ],
      "metadata": {
        "id": "iE-B0qziX9w5"
      },
      "execution_count": null,
      "outputs": []
    },
    {
      "cell_type": "code",
      "source": [
        "history = model.fit(train_dataset, epochs=10, validation_data=test_dataset, validation_steps=30)"
      ],
      "metadata": {
        "id": "RHIOBqRrYOuG",
        "colab": {
          "base_uri": "https://localhost:8080/"
        },
        "outputId": "07ed4aed-7615-4209-e481-84abf2aff0a2"
      },
      "execution_count": null,
      "outputs": [
        {
          "output_type": "stream",
          "name": "stdout",
          "text": [
            "Epoch 1/10\n",
            "391/391 [==============================] - 1612s 4s/step - loss: 0.6363 - accuracy: 0.5790 - val_loss: 0.4534 - val_accuracy: 0.8104\n",
            "Epoch 2/10\n",
            "391/391 [==============================] - 1551s 4s/step - loss: 0.3911 - accuracy: 0.8302 - val_loss: 0.3572 - val_accuracy: 0.8484\n",
            "Epoch 3/10\n",
            "391/391 [==============================] - 1543s 4s/step - loss: 0.3354 - accuracy: 0.8591 - val_loss: 0.3378 - val_accuracy: 0.8589\n",
            "Epoch 4/10\n",
            "391/391 [==============================] - 1467s 4s/step - loss: 0.3213 - accuracy: 0.8638 - val_loss: 0.3258 - val_accuracy: 0.8568\n",
            "Epoch 5/10\n",
            "391/391 [==============================] - 1472s 4s/step - loss: 0.3161 - accuracy: 0.8669 - val_loss: 0.3386 - val_accuracy: 0.8354\n",
            "Epoch 6/10\n",
            "391/391 [==============================] - 1548s 4s/step - loss: 0.3070 - accuracy: 0.8698 - val_loss: 0.3429 - val_accuracy: 0.8583\n",
            "Epoch 7/10\n",
            "391/391 [==============================] - 1453s 4s/step - loss: 0.3001 - accuracy: 0.8728 - val_loss: 0.3191 - val_accuracy: 0.8573\n",
            "Epoch 8/10\n",
            "391/391 [==============================] - 1427s 4s/step - loss: 0.2990 - accuracy: 0.8719 - val_loss: 0.3199 - val_accuracy: 0.8594\n",
            "Epoch 9/10\n",
            "391/391 [==============================] - 1464s 4s/step - loss: 0.2972 - accuracy: 0.8732 - val_loss: 0.3232 - val_accuracy: 0.8568\n",
            "Epoch 10/10\n",
            "391/391 [==============================] - 1545s 4s/step - loss: 0.2935 - accuracy: 0.8741 - val_loss: 0.3207 - val_accuracy: 0.8573\n"
          ]
        }
      ]
    },
    {
      "cell_type": "code",
      "source": [
        "test_loss, test_acc = model.evaluate(test_dataset)\n",
        "\n",
        "print('Test Loss:', test_loss)\n",
        "print('Test Accuracy:', test_acc)"
      ],
      "metadata": {
        "colab": {
          "base_uri": "https://localhost:8080/"
        },
        "id": "-IqlZaeXYJN8",
        "outputId": "cc02cd47-c05b-4156-abbe-b3dd71f5d339"
      },
      "execution_count": null,
      "outputs": [
        {
          "output_type": "stream",
          "name": "stdout",
          "text": [
            "391/391 [==============================] - 371s 948ms/step - loss: 0.3160 - accuracy: 0.8614\n",
            "Test Loss: 0.3159812390804291\n",
            "Test Accuracy: 0.8614400029182434\n"
          ]
        }
      ]
    },
    {
      "cell_type": "code",
      "source": [
        "# predict on a sample text without padding.\n",
        "\n",
        "sample_text = ('The movie was not good. The animation and the graphics '\n",
        "'were terrible. I would not recommend this movie.')\n",
        "predictions = model.predict(np.array([sample_text]))\n",
        "print(predictions)"
      ],
      "metadata": {
        "colab": {
          "base_uri": "https://localhost:8080/"
        },
        "id": "ryiSTagzYXaJ",
        "outputId": "65c8ee4c-3554-4c5e-8587-f31ba80dc824"
      },
      "execution_count": null,
      "outputs": [
        {
          "output_type": "stream",
          "name": "stdout",
          "text": [
            "1/1 [==============================] - 11s 11s/step\n",
            "[[-1.8198806]]\n"
          ]
        }
      ]
    },
    {
      "cell_type": "code",
      "source": [
        "plt.figure(figsize=(16, 6))\n",
        "plt.subplot(1, 2, 1)\n",
        "plot_graphs(history, 'accuracy')\n",
        "plt.subplot(1, 2, 2)\n",
        "plot_graphs(history, 'loss')"
      ],
      "metadata": {
        "colab": {
          "base_uri": "https://localhost:8080/",
          "height": 543
        },
        "id": "SBS4eBlIYyT-",
        "outputId": "67b56779-24ac-4bc3-9389-dfb825a01a84"
      },
      "execution_count": null,
      "outputs": [
        {
          "output_type": "display_data",
          "data": {
            "text/plain": [
              "<Figure size 1600x600 with 2 Axes>"
            ],
            "image/png": "[encoded data removed]"
          },
          "metadata": {}
        }
      ]
    },
    {
      "cell_type": "markdown",
      "source": [
        "**Praktikum 2**\n",
        "\n",
        "**Generator Teks dengan RNN**"
      ],
      "metadata": {
        "id": "KRu6Zf8XZqQU"
      }
    },
    {
      "cell_type": "markdown",
      "source": [
        "Setup"
      ],
      "metadata": {
        "id": "un7v8zxDZwF-"
      }
    },
    {
      "cell_type": "markdown",
      "source": [
        "Import TensorFlow"
      ],
      "metadata": {
        "id": "gkToJjItZy3z"
      }
    },
    {
      "cell_type": "code",
      "source": [
        "import tensorflow as tf\n",
        "import numpy as np\n",
        "import os\n",
        "import time"
      ],
      "metadata": {
        "id": "7euWpFVyZ0qj"
      },
      "execution_count": null,
      "outputs": []
    },
    {
      "cell_type": "code",
      "source": [
        "path_to_file = tf.keras.utils.get_file('shakespeare.txt', 'https://storage.googleapis.com/download.tensorflow.org/data/shakespeare.txt')"
      ],
      "metadata": {
        "colab": {
          "base_uri": "https://localhost:8080/"
        },
        "id": "2ffm5-PBZ2eH",
        "outputId": "d856414a-8c51-48c3-92ad-a6adf4e7b87d"
      },
      "execution_count": null,
      "outputs": [
        {
          "output_type": "stream",
          "name": "stdout",
          "text": [
            "Downloading data from https://storage.googleapis.com/download.tensorflow.org/data/shakespeare.txt\n",
            "1115394/1115394 [==============================] - 0s 0us/step\n"
          ]
        }
      ]
    },
    {
      "cell_type": "markdown",
      "source": [
        "Load Data"
      ],
      "metadata": {
        "id": "92Estp6NaWjJ"
      }
    },
    {
      "cell_type": "code",
      "source": [
        "# Read, then decode for py2 compat.\n",
        "text = open(path_to_file, 'rb').read().decode(encoding='utf-8')\n",
        "# length of text is the number of characters in it\n",
        "print(f'Length of text: {len(text)} characters')"
      ],
      "metadata": {
        "colab": {
          "base_uri": "https://localhost:8080/"
        },
        "id": "ckeyVe2JaWSj",
        "outputId": "bfb772a4-ff19-49d5-a5ac-90dc2672fb0d"
      },
      "execution_count": null,
      "outputs": [
        {
          "output_type": "stream",
          "name": "stdout",
          "text": [
            "Length of text: 1115394 characters\n"
          ]
        }
      ]
    },
    {
      "cell_type": "code",
      "source": [
        "# Take a look at the first 250 characters in text\n",
        "print(text[:250])"
      ],
      "metadata": {
        "colab": {
          "base_uri": "https://localhost:8080/"
        },
        "id": "qadLK9JNaa1k",
        "outputId": "4db36a10-8c7d-4ece-e159-46d201f74d7e"
      },
      "execution_count": null,
      "outputs": [
        {
          "output_type": "stream",
          "name": "stdout",
          "text": [
            "First Citizen:\n",
            "Before we proceed any further, hear me speak.\n",
            "\n",
            "All:\n",
            "Speak, speak.\n",
            "\n",
            "First Citizen:\n",
            "You are all resolved rather to die than to famish?\n",
            "\n",
            "All:\n",
            "Resolved. resolved.\n",
            "\n",
            "First Citizen:\n",
            "First, you know Caius Marcius is chief enemy to the people.\n",
            "\n"
          ]
        }
      ]
    },
    {
      "cell_type": "code",
      "source": [
        "# The unique characters in the file\n",
        "vocab = sorted(set(text))\n",
        "print(f'{len(vocab)} unique characters')"
      ],
      "metadata": {
        "colab": {
          "base_uri": "https://localhost:8080/"
        },
        "id": "wYlQSb2HadEP",
        "outputId": "6fb5e790-b90a-4114-bd69-dcc6298d2f1e"
      },
      "execution_count": null,
      "outputs": [
        {
          "output_type": "stream",
          "name": "stdout",
          "text": [
            "65 unique characters\n"
          ]
        }
      ]
    },
    {
      "cell_type": "markdown",
      "source": [
        "**Olah Teks**\n",
        "\n",
        "Vectorize Teks\n",
        "Sebelum training, Anda perlu mengonversi string menjadi representasi numerik. tf.keras.layers.StringLookup dapat mengubah setiap karakter menjadi ID numerik. Caranya adalah teks akan dipecah menjadi token terlebih dahulu."
      ],
      "metadata": {
        "id": "2nJDn30Naeop"
      }
    },
    {
      "cell_type": "code",
      "source": [
        "example_texts = ['abcdefg', 'xyz']\n",
        "chars = tf.strings.unicode_split(example_texts, input_encoding='UTF-8')\n",
        "chars"
      ],
      "metadata": {
        "colab": {
          "base_uri": "https://localhost:8080/"
        },
        "id": "f73RlH9OaiAH",
        "outputId": "b40e133a-162a-4b4a-f7c3-084d12012961"
      },
      "execution_count": null,
      "outputs": [
        {
          "output_type": "execute_result",
          "data": {
            "text/plain": [
              "<tf.RaggedTensor [[b'a', b'b', b'c', b'd', b'e', b'f', b'g'], [b'x', b'y', b'z']]>"
            ]
          },
          "metadata": {},
          "execution_count": 30
        }
      ]
    },
    {
      "cell_type": "markdown",
      "source": [
        "sekarang buat tf.keras.layers.StringLookup layer:"
      ],
      "metadata": {
        "id": "g716bJ14apKV"
      }
    },
    {
      "cell_type": "code",
      "source": [
        "ids_from_chars = tf.keras.layers.StringLookup(\n",
        "vocabulary=list(vocab), mask_token=None)"
      ],
      "metadata": {
        "id": "elFYWmiDaqv4"
      },
      "execution_count": null,
      "outputs": []
    },
    {
      "cell_type": "markdown",
      "source": [
        "perintah diatas mengconvert token menjadi id"
      ],
      "metadata": {
        "id": "KwUssRXKawIK"
      }
    },
    {
      "cell_type": "code",
      "source": [
        "ids = ids_from_chars(chars)\n",
        "ids"
      ],
      "metadata": {
        "colab": {
          "base_uri": "https://localhost:8080/"
        },
        "id": "vwjAXrW-awnQ",
        "outputId": "17093b5f-0018-46ae-83a7-ab43db8e3c54"
      },
      "execution_count": null,
      "outputs": [
        {
          "output_type": "execute_result",
          "data": {
            "text/plain": [
              "<tf.RaggedTensor [[40, 41, 42, 43, 44, 45, 46], [63, 64, 65]]>"
            ]
          },
          "metadata": {},
          "execution_count": 32
        }
      ]
    },
    {
      "cell_type": "markdown",
      "source": [
        "Karena tujuan tutorial ini adalah untuk menghasilkan teks, penting juga untuk membalikkan representasi ini. Untuk ini Anda dapat menggunakan kode"
      ],
      "metadata": {
        "id": "o-UQRHzha2Eh"
      }
    },
    {
      "cell_type": "code",
      "source": [
        "chars_from_ids = tf.keras.layers.StringLookup(\n",
        "    vocabulary=ids_from_chars.get_vocabulary(), invert=True, mask_token=None)"
      ],
      "metadata": {
        "id": "8dYNSQBea1yF"
      },
      "execution_count": null,
      "outputs": []
    },
    {
      "cell_type": "markdown",
      "source": [
        "Lapisan ini mengconvert kembali karakter dari vektor ID, dan mengembalikannya sebagai karakter tf.RaggedTensor:"
      ],
      "metadata": {
        "id": "fkNAhcH2a7Kw"
      }
    },
    {
      "cell_type": "code",
      "source": [
        "chars = chars_from_ids(ids)\n",
        "chars"
      ],
      "metadata": {
        "colab": {
          "base_uri": "https://localhost:8080/"
        },
        "id": "MqRB6VV2a7nA",
        "outputId": "7c300e83-2223-416b-9a54-89f63dc21fb1"
      },
      "execution_count": null,
      "outputs": [
        {
          "output_type": "execute_result",
          "data": {
            "text/plain": [
              "<tf.RaggedTensor [[b'a', b'b', b'c', b'd', b'e', b'f', b'g'], [b'x', b'y', b'z']]>"
            ]
          },
          "metadata": {},
          "execution_count": 34
        }
      ]
    },
    {
      "cell_type": "markdown",
      "source": [
        "Anda dapat menggunakan tf.strings.reduce_join untuk menggabungkan kembali karakter menjadi string."
      ],
      "metadata": {
        "id": "hJbLCATxa-ZQ"
      }
    },
    {
      "cell_type": "code",
      "source": [
        "tf.strings.reduce_join(chars, axis=-1).numpy()"
      ],
      "metadata": {
        "colab": {
          "base_uri": "https://localhost:8080/"
        },
        "id": "R6b_g32ka-yV",
        "outputId": "90a4dc3f-432b-41f7-8abf-95497fde8bd9"
      },
      "execution_count": null,
      "outputs": [
        {
          "output_type": "execute_result",
          "data": {
            "text/plain": [
              "array([b'abcdefg', b'xyz'], dtype=object)"
            ]
          },
          "metadata": {},
          "execution_count": 35
        }
      ]
    },
    {
      "cell_type": "code",
      "source": [
        "def text_from_ids(ids):\n",
        "    return tf.strings.reduce_join(chars_from_ids(ids), axis=-1)"
      ],
      "metadata": {
        "id": "la85JHYCbA-g"
      },
      "execution_count": null,
      "outputs": []
    },
    {
      "cell_type": "markdown",
      "source": [
        "**Prediksi**"
      ],
      "metadata": {
        "id": "Gps0egiLbD6x"
      }
    },
    {
      "cell_type": "markdown",
      "source": [
        "**Membuat Trianing Set dan Target**"
      ],
      "metadata": {
        "id": "oKpQKBtdbGPr"
      }
    },
    {
      "cell_type": "code",
      "source": [
        "all_ids = ids_from_chars(tf.strings.unicode_split(text, 'UTF-8'))\n",
        "all_ids"
      ],
      "metadata": {
        "colab": {
          "base_uri": "https://localhost:8080/"
        },
        "id": "wh2vbwXbbIzA",
        "outputId": "e48343be-4524-4f7f-b013-ec473747e04a"
      },
      "execution_count": null,
      "outputs": [
        {
          "output_type": "execute_result",
          "data": {
            "text/plain": [
              "<tf.Tensor: shape=(1115394,), dtype=int64, numpy=array([19, 48, 57, ..., 46,  9,  1])>"
            ]
          },
          "metadata": {},
          "execution_count": 37
        }
      ]
    },
    {
      "cell_type": "code",
      "source": [
        "ids_dataset = tf.data.Dataset.from_tensor_slices(all_ids)"
      ],
      "metadata": {
        "id": "RwjsUlkkbMIU"
      },
      "execution_count": null,
      "outputs": []
    },
    {
      "cell_type": "code",
      "source": [
        "for ids in ids_dataset.take(10):\n",
        "    print(chars_from_ids(ids).numpy().decode('utf-8'))"
      ],
      "metadata": {
        "colab": {
          "base_uri": "https://localhost:8080/"
        },
        "id": "_PN3QQtRbObo",
        "outputId": "d0852e11-1ae8-4138-f84f-9c8180e66c81"
      },
      "execution_count": null,
      "outputs": [
        {
          "output_type": "stream",
          "name": "stdout",
          "text": [
            "F\n",
            "i\n",
            "r\n",
            "s\n",
            "t\n",
            " \n",
            "C\n",
            "i\n",
            "t\n",
            "i\n"
          ]
        }
      ]
    },
    {
      "cell_type": "code",
      "source": [
        "seq_length = 100"
      ],
      "metadata": {
        "id": "ommKcJEIbSPn"
      },
      "execution_count": null,
      "outputs": []
    },
    {
      "cell_type": "markdown",
      "source": [
        "Metode batch memungkinkan Anda dengan mudah mengonversi karakter individual ini menjadi urutan ukuran yang diinginkan."
      ],
      "metadata": {
        "id": "Fe7bBUoKbXbX"
      }
    },
    {
      "cell_type": "code",
      "source": [
        "sequences = ids_dataset.batch(seq_length+1, drop_remainder=True)\n",
        "\n",
        "for seq in sequences.take(1):\n",
        "  print(chars_from_ids(seq))"
      ],
      "metadata": {
        "colab": {
          "base_uri": "https://localhost:8080/"
        },
        "id": "zHPGBAE4bXH8",
        "outputId": "85edef9e-a7db-4028-e1e0-5efa7c845469"
      },
      "execution_count": null,
      "outputs": [
        {
          "output_type": "stream",
          "name": "stdout",
          "text": [
            "tf.Tensor(\n",
            "[b'F' b'i' b'r' b's' b't' b' ' b'C' b'i' b't' b'i' b'z' b'e' b'n' b':'\n",
            " b'\\n' b'B' b'e' b'f' b'o' b'r' b'e' b' ' b'w' b'e' b' ' b'p' b'r' b'o'\n",
            " b'c' b'e' b'e' b'd' b' ' b'a' b'n' b'y' b' ' b'f' b'u' b'r' b't' b'h'\n",
            " b'e' b'r' b',' b' ' b'h' b'e' b'a' b'r' b' ' b'm' b'e' b' ' b's' b'p'\n",
            " b'e' b'a' b'k' b'.' b'\\n' b'\\n' b'A' b'l' b'l' b':' b'\\n' b'S' b'p' b'e'\n",
            " b'a' b'k' b',' b' ' b's' b'p' b'e' b'a' b'k' b'.' b'\\n' b'\\n' b'F' b'i'\n",
            " b'r' b's' b't' b' ' b'C' b'i' b't' b'i' b'z' b'e' b'n' b':' b'\\n' b'Y'\n",
            " b'o' b'u' b' '], shape=(101,), dtype=string)\n"
          ]
        }
      ]
    },
    {
      "cell_type": "markdown",
      "source": [
        "akan lebih mudah untuk melihat apa yang dilakukan jika Anda menggabungkan token kembali menjadi string:"
      ],
      "metadata": {
        "id": "QosfWBA2bbDs"
      }
    },
    {
      "cell_type": "code",
      "source": [
        "for seq in sequences.take(5):\n",
        "    print(text_from_ids(seq).numpy())"
      ],
      "metadata": {
        "colab": {
          "base_uri": "https://localhost:8080/"
        },
        "id": "oWcbJr_xbbeC",
        "outputId": "24de2c1d-ce48-40f8-8729-0aa1bc32654e"
      },
      "execution_count": null,
      "outputs": [
        {
          "output_type": "stream",
          "name": "stdout",
          "text": [
            "b'First Citizen:\\nBefore we proceed any further, hear me speak.\\n\\nAll:\\nSpeak, speak.\\n\\nFirst Citizen:\\nYou '\n",
            "b'are all resolved rather to die than to famish?\\n\\nAll:\\nResolved. resolved.\\n\\nFirst Citizen:\\nFirst, you k'\n",
            "b\"now Caius Marcius is chief enemy to the people.\\n\\nAll:\\nWe know't, we know't.\\n\\nFirst Citizen:\\nLet us ki\"\n",
            "b\"ll him, and we'll have corn at our own price.\\nIs't a verdict?\\n\\nAll:\\nNo more talking on't; let it be d\"\n",
            "b'one: away, away!\\n\\nSecond Citizen:\\nOne word, good citizens.\\n\\nFirst Citizen:\\nWe are accounted poor citi'\n"
          ]
        }
      ]
    },
    {
      "cell_type": "markdown",
      "source": [
        "Untuk pelatihan, Anda memerlukan kumpulan data pasangan (input, label). Dimana input dan label merupakan urutan. Pada setiap langkah waktu, inputnya adalah karakter saat ini dan labelnya adalah karakter berikutnya. Berikut adalah fungsi yang mengambil urutan sebagai masukan, menduplikasi, dan menggesernya untuk menyelaraskan masukan dan label untuk setiap langkah waktu:"
      ],
      "metadata": {
        "id": "YiN7jsTdbfya"
      }
    },
    {
      "cell_type": "code",
      "source": [
        "def split_input_target(sequence):\n",
        "  input_text = sequence[:-1]\n",
        "  target_text = sequence[1:]\n",
        "  return input_text, target_text"
      ],
      "metadata": {
        "id": "lEkFVqK0bgQO"
      },
      "execution_count": null,
      "outputs": []
    },
    {
      "cell_type": "code",
      "source": [
        "split_input_target(list(\"Tensorflow\"))"
      ],
      "metadata": {
        "colab": {
          "base_uri": "https://localhost:8080/"
        },
        "id": "5s-Hff7DbtkQ",
        "outputId": "45eaa862-6ad5-4005-ca83-deeb236e097f"
      },
      "execution_count": null,
      "outputs": [
        {
          "output_type": "execute_result",
          "data": {
            "text/plain": [
              "(['T', 'e', 'n', 's', 'o', 'r', 'f', 'l', 'o'],\n",
              " ['e', 'n', 's', 'o', 'r', 'f', 'l', 'o', 'w'])"
            ]
          },
          "metadata": {},
          "execution_count": 44
        }
      ]
    },
    {
      "cell_type": "code",
      "source": [
        "dataset = sequences.map(split_input_target)"
      ],
      "metadata": {
        "id": "jdWIUPxJb9LK"
      },
      "execution_count": null,
      "outputs": []
    },
    {
      "cell_type": "code",
      "source": [
        "for input_example, target_example in dataset.take(1):\n",
        " print(\"Input :\", text_from_ids(input_example).numpy())\n",
        " print(\"Target:\", text_from_ids(target_example).numpy())"
      ],
      "metadata": {
        "colab": {
          "base_uri": "https://localhost:8080/"
        },
        "id": "PRjduT93byAg",
        "outputId": "fa32a0b5-6323-4500-a642-1ac5aafe105f"
      },
      "execution_count": null,
      "outputs": [
        {
          "output_type": "stream",
          "name": "stdout",
          "text": [
            "Input : b'First Citizen:\\nBefore we proceed any further, hear me speak.\\n\\nAll:\\nSpeak, speak.\\n\\nFirst Citizen:\\nYou'\n",
            "Target: b'irst Citizen:\\nBefore we proceed any further, hear me speak.\\n\\nAll:\\nSpeak, speak.\\n\\nFirst Citizen:\\nYou '\n"
          ]
        }
      ]
    },
    {
      "cell_type": "markdown",
      "source": [
        "**Membuat Batch Training**"
      ],
      "metadata": {
        "id": "4xQUta4VcCXt"
      }
    },
    {
      "cell_type": "markdown",
      "source": [
        "Anda menggunakan tf.data untuk membagi teks menjadi sequence yang dapat diatur. Namun sebelum memasukkan data ini ke dalam model, Anda perlu mengacak data dan mengemasnya ke dalam batch."
      ],
      "metadata": {
        "id": "0bPtoJojcF0u"
      }
    },
    {
      "cell_type": "code",
      "source": [
        "# Batch size\n",
        "BATCH_SIZE = 64\n",
        "\n",
        "# Buffer size to shuffle the dataset\n",
        "# (TF data is designed to work with possibly infinite sequences,\n",
        "# so it doesn't attempt to shuffle the entire sequence in memory. Instead,\n",
        "# it maintains a buffer in which it shuffles elements).\n",
        "BUFFER_SIZE = 10000\n",
        "\n",
        "dataset = (\n",
        "    dataset\n",
        "    .shuffle(BUFFER_SIZE)\n",
        "    .batch(BATCH_SIZE, drop_remainder=True)\n",
        "    .prefetch(tf.data.experimental.AUTOTUNE))\n",
        "\n",
        "dataset"
      ],
      "metadata": {
        "colab": {
          "base_uri": "https://localhost:8080/"
        },
        "id": "3Lri7tmdcIG5",
        "outputId": "5cac4f5f-b568-4a88-8126-c010b9d13b7c"
      },
      "execution_count": null,
      "outputs": [
        {
          "output_type": "execute_result",
          "data": {
            "text/plain": [
              "<_PrefetchDataset element_spec=(TensorSpec(shape=(64, 100), dtype=tf.int64, name=None), TensorSpec(shape=(64, 100), dtype=tf.int64, name=None))>"
            ]
          },
          "metadata": {},
          "execution_count": 47
        }
      ]
    },
    {
      "cell_type": "markdown",
      "source": [
        "**Membuat Model**"
      ],
      "metadata": {
        "id": "_IeljTHwcK5S"
      }
    },
    {
      "cell_type": "code",
      "source": [
        "# Length of the vocabulary in StringLookup Layer\n",
        "vocab_size = len(ids_from_chars.get_vocabulary())\n",
        "\n",
        "# The embedding dimension\n",
        "embedding_dim = 256\n",
        "\n",
        "# Number of RNN units\n",
        "rnn_units = 1024"
      ],
      "metadata": {
        "id": "n2Ug48TXcNNq"
      },
      "execution_count": null,
      "outputs": []
    },
    {
      "cell_type": "code",
      "source": [
        "class MyModel(tf.keras.Model):\n",
        "  def __init__(self, vocab_size, embedding_dim, rnn_units):\n",
        "    super().__init__(self)\n",
        "    self.embedding = tf.keras.layers.Embedding(vocab_size, embedding_dim)\n",
        "    self.gru = tf.keras.layers.GRU(rnn_units,\n",
        "                                   return_sequences=True,\n",
        "                                   return_state=True)\n",
        "    self.dense = tf.keras.layers.Dense(vocab_size)\n",
        "\n",
        "  def call(self, inputs, states=None, return_state=False, training=False):\n",
        "    x = inputs\n",
        "    x = self.embedding(x, training=training)\n",
        "    if states is None:\n",
        "      states = self.gru.get_initial_state(x)\n",
        "    x, states = self.gru(x, initial_state=states, training=training)\n",
        "    x = self.dense(x, training=training)\n",
        "\n",
        "    if return_state:\n",
        "      return x, states\n",
        "    else:\n",
        "      return x"
      ],
      "metadata": {
        "id": "mbVuIVp3cQL6"
      },
      "execution_count": null,
      "outputs": []
    },
    {
      "cell_type": "code",
      "source": [
        "model = MyModel(\n",
        "    vocab_size=vocab_size,\n",
        "    embedding_dim=embedding_dim,\n",
        "    rnn_units=rnn_units)"
      ],
      "metadata": {
        "id": "WaYIVhrUcSRH"
      },
      "execution_count": null,
      "outputs": []
    },
    {
      "cell_type": "markdown",
      "source": [
        "**Uji Model**"
      ],
      "metadata": {
        "id": "CBO-e_vWcTII"
      }
    },
    {
      "cell_type": "code",
      "source": [
        "for input_example_batch, target_example_batch in dataset.take(1):\n",
        "    example_batch_predictions = model(input_example_batch)\n",
        "    print(example_batch_predictions.shape, \"# (batch_size, sequence_length, vocab_size)\")"
      ],
      "metadata": {
        "colab": {
          "base_uri": "https://localhost:8080/"
        },
        "id": "kk25b2W1cU9m",
        "outputId": "f7aa13ff-80a0-4f20-98ac-48db04a23bb6"
      },
      "execution_count": null,
      "outputs": [
        {
          "output_type": "stream",
          "name": "stdout",
          "text": [
            "(64, 100, 66) # (batch_size, sequence_length, vocab_size)\n"
          ]
        }
      ]
    },
    {
      "cell_type": "code",
      "source": [
        "model.summary()"
      ],
      "metadata": {
        "colab": {
          "base_uri": "https://localhost:8080/"
        },
        "id": "iclcmPrRcX6Y",
        "outputId": "7e221122-dc8e-488f-c52f-70196c63fb8b"
      },
      "execution_count": null,
      "outputs": [
        {
          "output_type": "stream",
          "name": "stdout",
          "text": [
            "Model: \"my_model\"\n",
            "_________________________________________________________________\n",
            " Layer (type)                Output Shape              Param #   \n",
            "=================================================================\n",
            " embedding_2 (Embedding)     multiple                  16896     \n",
            "                                                                 \n",
            " gru (GRU)                   multiple                  3938304   \n",
            "                                                                 \n",
            " dense_4 (Dense)             multiple                  67650     \n",
            "                                                                 \n",
            "=================================================================\n",
            "Total params: 4022850 (15.35 MB)\n",
            "Trainable params: 4022850 (15.35 MB)\n",
            "Non-trainable params: 0 (0.00 Byte)\n",
            "_________________________________________________________________\n"
          ]
        }
      ]
    },
    {
      "cell_type": "code",
      "source": [
        "sampled_indices = tf.random.categorical(example_batch_predictions[0],num_samples=1)\n",
        "sampled_indices = tf.squeeze(sampled_indices, axis=-1).numpy()"
      ],
      "metadata": {
        "id": "P6AvTjetcdCS"
      },
      "execution_count": null,
      "outputs": []
    },
    {
      "cell_type": "code",
      "source": [
        "sampled_indices"
      ],
      "metadata": {
        "colab": {
          "base_uri": "https://localhost:8080/"
        },
        "id": "ndC8VUoccfNa",
        "outputId": "5f76f2fd-35f9-4ec4-b470-a6cafdcef194"
      },
      "execution_count": null,
      "outputs": [
        {
          "output_type": "execute_result",
          "data": {
            "text/plain": [
              "array([34, 24, 59, 16, 58, 30, 36,  9, 18, 38,  6, 18,  3, 57, 26, 41, 35,\n",
              "        6, 58, 15, 24,  0,  3, 15, 27, 15,  1, 37, 38,  0, 43, 58, 29, 24,\n",
              "       53, 15, 18, 65, 27, 40, 11,  8, 17, 38, 60,  4, 17, 21, 12, 53, 63,\n",
              "       11, 24, 42, 36, 17, 59, 18, 20, 12, 13,  9,  9, 24, 30, 23, 57,  3,\n",
              "       20, 57, 53, 48, 12, 64, 31, 51,  5, 12, 59, 23, 33, 12,  1, 55, 53,\n",
              "       47, 22, 13, 17, 15, 20, 58, 19,  6, 46, 64, 13, 38, 54, 16])"
            ]
          },
          "metadata": {},
          "execution_count": 54
        }
      ]
    },
    {
      "cell_type": "markdown",
      "source": [
        "\n",
        "Dekode kode berikut untuk melihat teks yang diprediksi oleh model tidak terlatih ini:"
      ],
      "metadata": {
        "id": "Wk6rDYLmchJ-"
      }
    },
    {
      "cell_type": "code",
      "source": [
        "print(\"Input:\\n\", text_from_ids(input_example_batch[0]).numpy())\n",
        "print()\n",
        "print(\"Next Char Predictions:\\n\", text_from_ids(sampled_indices).numpy())"
      ],
      "metadata": {
        "colab": {
          "base_uri": "https://localhost:8080/"
        },
        "id": "Tc_KOcpFchox",
        "outputId": "82fda384-35ec-4177-eb3b-d01332a0e2b0"
      },
      "execution_count": null,
      "outputs": [
        {
          "output_type": "stream",
          "name": "stdout",
          "text": [
            "Input:\n",
            " b\"' blood!\\n\\nQUEEN ELIZABETH:\\nO, that thou wouldst as well afford a grave\\nAs thou canst yield a melanch\"\n",
            "\n",
            "Next Char Predictions:\n",
            " b\"UKtCsQW.EY'E!rMbV'sBK[UNK]!BNB\\nXY[UNK]dsPKnBEzNa:-DYu$DH;nx:KcWDtEG;?..KQJr!Grni;yRl&;tJT;\\npnhI?DBGsF'gy?YoC\"\n"
          ]
        }
      ]
    },
    {
      "cell_type": "markdown",
      "source": [
        "**Train Model**"
      ],
      "metadata": {
        "id": "bBW8dgAnckAK"
      }
    },
    {
      "cell_type": "markdown",
      "source": [
        "Tambahan optimizer dan fungsi loss\n",
        "\n",
        "loss function tf.keras.losses.sparse_categorical_crossentropy standar berfungsi dalam kasus ini karena diterapkan di seluruh dimensi terakhir prediksi. Karena model Anda mengembalikan logits, Anda perlu mengatur flag from_logits."
      ],
      "metadata": {
        "id": "IUcnvdnlcmVH"
      }
    },
    {
      "cell_type": "code",
      "source": [
        "loss = tf.losses.SparseCategoricalCrossentropy(from_logits=True)"
      ],
      "metadata": {
        "id": "aJcdo285cqOB"
      },
      "execution_count": null,
      "outputs": []
    },
    {
      "cell_type": "code",
      "source": [
        "example_batch_mean_loss = loss(target_example_batch, example_batch_predictions)\n",
        "print(\"Prediction shape: \", example_batch_predictions.shape, \" # (batch_size, sequence_length, vocab_size)\")\n",
        "print(\"Mean loss:        \", example_batch_mean_loss)"
      ],
      "metadata": {
        "colab": {
          "base_uri": "https://localhost:8080/"
        },
        "id": "D_AZfaeacs-4",
        "outputId": "0c9177b5-ccb2-48ed-d09d-11e87584adfd"
      },
      "execution_count": null,
      "outputs": [
        {
          "output_type": "stream",
          "name": "stdout",
          "text": [
            "Prediction shape:  (64, 100, 66)  # (batch_size, sequence_length, vocab_size)\n",
            "Mean loss:         tf.Tensor(4.1894054, shape=(), dtype=float32)\n"
          ]
        }
      ]
    },
    {
      "cell_type": "markdown",
      "source": [
        "Model yang baru diinisialisasi tidak boleh terlalu yakin dengan dirinya sendiri, semua log keluaran harus memiliki besaran yang sama. Untuk mengonfirmasi hal ini, Anda dapat memeriksa bahwa eksponensial dari loss rata-rata harus kira-kira sama dengan ukuran kosakata. Loss yang jauh lebih tinggi berarti model tersebut yakin akan jawaban yang salah, dan memiliki inisialisasi yang buruk:"
      ],
      "metadata": {
        "id": "hNM2bFKRct3b"
      }
    },
    {
      "cell_type": "code",
      "source": [
        "tf.exp(example_batch_mean_loss).numpy()"
      ],
      "metadata": {
        "colab": {
          "base_uri": "https://localhost:8080/"
        },
        "id": "Uy-ELRfPcwB9",
        "outputId": "c26cd30f-9976-4517-8885-752786106d79"
      },
      "execution_count": null,
      "outputs": [
        {
          "output_type": "execute_result",
          "data": {
            "text/plain": [
              "65.98355"
            ]
          },
          "metadata": {},
          "execution_count": 58
        }
      ]
    },
    {
      "cell_type": "markdown",
      "source": [
        "Konfigurasikan prosedur pelatihan menggunakan metode tf.keras.Model.compile. Gunakan tf.keras.optimizers.Adam dengan argumen default dan fungsi loss."
      ],
      "metadata": {
        "id": "mPnrrkdvc4oS"
      }
    },
    {
      "cell_type": "code",
      "source": [
        "model.compile(optimizer='adam', loss=loss)"
      ],
      "metadata": {
        "id": "aJEIEn9cc6bj"
      },
      "execution_count": null,
      "outputs": []
    },
    {
      "cell_type": "markdown",
      "source": [
        "**Konfigurasi Checkpoints**\n",
        "\n",
        "Gunakan tf.keras.callbacks.ModelCheckpoint untuk memastikan bahwa checkpoint disimpan selama pelatihan:\n",
        "\n"
      ],
      "metadata": {
        "id": "M_ZNrHv6c8SY"
      }
    },
    {
      "cell_type": "code",
      "source": [
        "# Directory where the checkpoints will be saved\n",
        "checkpoint_dir = './training_checkpoints'\n",
        "# Name of the checkpoint files\n",
        "checkpoint_prefix = os.path.join(checkpoint_dir, \"ckpt_{epoch}\")\n",
        "\n",
        "checkpoint_callback = tf.keras.callbacks.ModelCheckpoint(\n",
        "    filepath=checkpoint_prefix,\n",
        "    save_weights_only=True)"
      ],
      "metadata": {
        "id": "Yaih9hmnc-yU"
      },
      "execution_count": null,
      "outputs": []
    },
    {
      "cell_type": "markdown",
      "source": [
        "Lakukan Proses Training"
      ],
      "metadata": {
        "id": "x1reeRUhdCi4"
      }
    },
    {
      "cell_type": "code",
      "source": [
        "EPOCHS = 10"
      ],
      "metadata": {
        "id": "Cbo5uMN_dBhy"
      },
      "execution_count": null,
      "outputs": []
    },
    {
      "cell_type": "markdown",
      "source": [
        "**Generate Teks**\n",
        "\n",
        "Berikut ini membuat prediksi satu langkah:"
      ],
      "metadata": {
        "id": "VRMfNDzQdH1i"
      }
    },
    {
      "cell_type": "code",
      "source": [
        "history = model.fit(dataset, epochs=EPOCHS, callbacks=[checkpoint_callback])"
      ],
      "metadata": {
        "id": "M7B93B-ggLA0"
      },
      "execution_count": null,
      "outputs": []
    },
    {
      "cell_type": "code",
      "source": [
        "class OneStep(tf.keras.Model):\n",
        "  def __init__(self, model, chars_from_ids, ids_from_chars, temperature=1.0):\n",
        "    super().__init__()\n",
        "    self.temperature = temperature\n",
        "    self.model = model\n",
        "    self.chars_from_ids = chars_from_ids\n",
        "    self.ids_from_chars = ids_from_chars\n",
        "\n",
        "    # Create a mask to prevent \"[UNK]\" from being generated.\n",
        "    skip_ids = self.ids_from_chars(['[UNK]'])[:, None]\n",
        "    sparse_mask = tf.SparseTensor(\n",
        "        # Put a -inf at each bad index.\n",
        "        values=[-float('inf')]*len(skip_ids),\n",
        "        indices=skip_ids,\n",
        "        # Match the shape to the vocabulary\n",
        "        dense_shape=[len(ids_from_chars.get_vocabulary())])\n",
        "    self.prediction_mask = tf.sparse.to_dense(sparse_mask)\n",
        "\n",
        "  @tf.function\n",
        "  def generate_one_step(self, inputs, states=None):\n",
        "    # Convert strings to token IDs.\n",
        "    input_chars = tf.strings.unicode_split(inputs, 'UTF-8')\n",
        "    input_ids = self.ids_from_chars(input_chars).to_tensor()\n",
        "\n",
        "    # Run the model.\n",
        "    # predicted_logits.shape is [batch, char, next_char_logits]\n",
        "    predicted_logits, states = self.model(inputs=input_ids, states=states,\n",
        "                                          return_state=True)\n",
        "    # Only use the last prediction.\n",
        "    predicted_logits = predicted_logits[:, -1, :]\n",
        "    predicted_logits = predicted_logits/self.temperature\n",
        "    # Apply the prediction mask: prevent \"[UNK]\" from being generated.\n",
        "    predicted_logits = predicted_logits + self.prediction_mask\n",
        "\n",
        "    # Sample the output logits to generate token IDs.\n",
        "    predicted_ids = tf.random.categorical(predicted_logits, num_samples=1)\n",
        "    predicted_ids = tf.squeeze(predicted_ids, axis=-1)\n",
        "\n",
        "    # Convert from token ids to characters\n",
        "    predicted_chars = self.chars_from_ids(predicted_ids)\n",
        "\n",
        "    # Return the characters and model state.\n",
        "    return predicted_chars, states"
      ],
      "metadata": {
        "id": "QO94WDvTdQWV"
      },
      "execution_count": null,
      "outputs": []
    },
    {
      "cell_type": "code",
      "source": [
        "one_step_model = OneStep(model, chars_from_ids, ids_from_chars)"
      ],
      "metadata": {
        "id": "UCTxBEg3dYhU"
      },
      "execution_count": null,
      "outputs": []
    },
    {
      "cell_type": "code",
      "source": [
        "start = time.time()\n",
        "states = None\n",
        "next_char = tf.constant(['ROMEO:'])\n",
        "result = [next_char]\n",
        "\n",
        "for n in range(1000):\n",
        "  next_char, states = one_step_model.generate_one_step(next_char, states=states)\n",
        "  result.append(next_char)\n",
        "\n",
        "result = tf.strings.join(result)\n",
        "end = time.time()\n",
        "print(result[0].numpy().decode('utf-8'), '\\n\\n' + '_'*80)\n",
        "print('\\nRun time:', end - start)"
      ],
      "metadata": {
        "colab": {
          "base_uri": "https://localhost:8080/"
        },
        "id": "o3dSxsYldaYe",
        "outputId": "e7a391a0-0f13-4923-ed8e-a7778b84d9b1"
      },
      "execution_count": null,
      "outputs": [
        {
          "output_type": "stream",
          "name": "stdout",
          "text": [
            "ROMEO:\n",
            "Henk sive unl voongly thoul hathy nitht revore, and s omdore,\n",
            "Andonce.\n",
            "\n",
            "Bucling.\n",
            "\n",
            "WALNICCORCAXIUS:\n",
            "We herendel of the hare thel the liverors-;\n",
            "-rie he pioks,\n",
            "Will har he amanged:\n",
            "The gonlour oorilen tot ay munt hebt me ald thet Hand with will coy\n",
            "ly mile,\n",
            "Wa, fay, I hate thou, nacie her to memns your tin gose,\n",
            "Dos besarth in rercesminguld hors, wh htonds!\n",
            "\n",
            "hat I hiag not hont Co whus may,\n",
            "As the sie mant, my yout yom\n",
            "Laks co dethar's himes at to-\n",
            "Eiso wiy hath the trones brionnd withurt wainch all yoursald dy wellons a kis: go soll seromm, I wall; twing me,\n",
            "His your nothertircu,\n",
            "And weals\n",
            "Pevon bey to furs, O hapl fie the yourd! bot RE:\n",
            "Pedresben will and hreald'd onen how: I ke if it mencenoll:\n",
            "Wertave If it our frand if ther he hand touthe.\n",
            "\n",
            "CEBEINWART:\n",
            "Thout of Bu yourds,\n",
            "And I hion ale sichuseens force\n",
            "Whay hod hy lave!\n",
            "\n",
            "FOUKEN:\n",
            "O wise, hote wolllo sat hay a co doster'd that hitr, them and.\n",
            "Andey ther gass, wory fromnte. I\n",
            "And wiln of thean loveserturt anpes breanith thy utses;\n",
            "I  \n",
            "\n",
            "________________________________________________________________________________\n",
            "\n",
            "Run time: 4.591275930404663\n"
          ]
        }
      ]
    },
    {
      "cell_type": "code",
      "source": [
        "start = time.time()\n",
        "states = None\n",
        "next_char = tf.constant(['ROMEO:', 'ROMEO:', 'ROMEO:', 'ROMEO:', 'ROMEO:'])\n",
        "result = [next_char]\n",
        "\n",
        "for n in range(1000):\n",
        "  next_char, states = one_step_model.generate_one_step(next_char, states=states)\n",
        "  result.append(next_char)\n",
        "\n",
        "result = tf.strings.join(result)\n",
        "end = time.time()\n",
        "print(result, '\\n\\n' + '_'*80)\n",
        "print('\\nRun time:', end - start)"
      ],
      "metadata": {
        "colab": {
          "base_uri": "https://localhost:8080/"
        },
        "id": "tGeugCwldfYr",
        "outputId": "2be10148-aff1-4e69-de59-63aebf3cc859"
      },
      "execution_count": null,
      "outputs": [
        {
          "output_type": "stream",
          "name": "stdout",
          "text": [
            "tf.Tensor(\n",
            "[b\"ROMEO:\\nSnom to yol gomaono will thatt ixt-be jene-\\nThang wast.\\n\\nMilond hidg, lork and, trotk mancherst ico tor suennt ICARD RICGONDUME:\\nThat haiese, sus thae' you will.\\n\\nADTROZEL:\\nLay barcest hickes.\\n\\nKINGRAUS:\\nI word to sid notbald, your, haw\\ngelce?\\nCAttry, vay\\nI birsses fom ter a mandill derexearf worpry, Gorr,. IGloke to dryweve,\\nAnd! Worcous cay'sioy,\\nTare, I hot prissul bonk's saven you wikest, a day the bradnipe cold sod wothr abl tho seevo seath hon? \\nKINGTACD RATII:\\nThich your, swell lowden,\\nOf, leave ford.\\n\\nSIONCECELICAD ES:\\nAthas to haig blove tgancingse courut Buterers thas fech atand erivoon's bet Corifere begc;\\nshat stall ser blid'\\nThis whin seaping!\\nLor nowe the pomf braveem cand to leave Ifaveat, your ow har, bistadet, sill to the envart shar comall tarstat whin wean a amp dig her hoo\\nThatk;\\nA shak nine hot of yol, woulds fich prasevipe,\\nIs an bead de pur of thiss hipry all Try fard-ble ust,\\n\\nLARDERRE:\\nWhat is the briast with hoje tre ite neat have h ackitings, thiss; will,\\nI \"\n",
            " b\"ROMEO:\\nWhice I som ; priuwif in sam men:\\nI susst sus; I chackingh', us yours be touls wordsince: I caysby,\\nHeathen to nos, a nos the\\nFreik\\nWhis distseg ? thould sart, Tro the this hougher nosturws sowirs nis menetaly thy I frestou arous and ne to hauk,\\nThe sorod ction somo the gonn thim queeat,\\nFor oun hell me your they liks gold bant\\nWhe mas, ofurers, srake ard thour ligce twot bats.\\n\\nPAUGUSVO:\\nI'll, thin thould his;\\nArd home of lome Apeany sosthe stimf trucce, haterem cook ane willo abken not I canavis sur toree hivins and cauntaid dank, And'\\nAy to munchenmart thy pryof thyoe; ut blacr that sike\\nWithe hare afrents bis here'sse the will ofou tith you a mondsterck blayss peashoresp is comnvith co ak in to mave is thear prich you hear shal I sall not dabe werater;\\nWhat fars buest bursecon hichtere, frie shat thamg on auk thene so wiRo.\\n\\nDORMEMEE:\\nOre swarcut, in thate'ch in hear no her of siber aV have hew\\nCatcreathich tha hore; a ow fear Kingstind ar yom tsurease tisal,\\nAnI say nat butresg; \"\n",
            " b\"ROMEO:\\nI'l shat if stilon to breall,\\nFither wint oug hate I so dast honsher if the or sofemy dood I mart shom makn tin may\\nThey ole iut to thit noor yose, with\\nA kimnom and ca exeins baimy,\\nAny chuthar tikh and shalllow row dill. Hescat\\nThay ash athet they haver, hives hit,\\nAnd don you hor a cound of dre is?\\n\\nPADKIN:\\nNow she by hear you nopksebtole,\\nAnstly a cunttica!\\n'spie? many ghat as driswss wine worsire s toe hes folee wo it se oarser,\\nI the chist,\\nI pain thrightor:\\nRowe oll e, ke litime I dive we lak with ox ardw the primess.\\n\\nPOKK:\\nHay are lite thuse namber lown;\\nTha gremast makt, Pient, ' wall himis shath\\nAndere, things,\\nLor in, and daus?\\n\\nSild\\nUSI;\\nINor for gollu hait you.\\n\\nBELWARI:\\nCarlis gomers,\\nModchath, deant to titnsent, in this sich sith you kelllon\\nSo, to fart:\\nwis ont gakes:\\nThon I saul geod,\\nAt tals in you nop\\nYount.\\n\\nDUKI:\\nWill wall for to wabcaldserens's of ha hing, besest! \\nASIT:\\nNo drane tare of thou Thent intes to so mank, bu? Forg.\\nWhat I groul the his? I love sore an\"\n",
            " b\"ROMEO: sy you hin;\\nWhis tres ichar.\\n\\nLARLIO:\\nO don angichorod, andshitt thy kis ovene don.\\nAthings,\\nThen liad how to suthes,\\nSim, and friful, kim\\nYou dartute and doongen.;\\nWholl whas gray, and sunce in that hitle the stanculelcus, But live thut serve my hale.\\n\\nBY LOCKINA:\\nE Kame a may\\nPromes fured thlus off swour your Sampickithis gen'llsce fatle nourd hay\\nI allos! alime chomes inathe!\\n\\nLOSTEST\\nCETOZHAMAS:\\nDy, wast fay yo the seave ears wo dold arthes wion of tue porich, a dorest lithing thes now\\nAndire ther ig asturisad me and wime mef yourd to tay this To ar aw if eway head, aw near stien\\nTe of thot ho hang is thoue\\nTim tobe comllod genad: the wancy my then of all, the tive bengencul;\\nO wove, Gov nead tho bull.\\n\\nIOLTO:\\n'ting co mus gomp, andteld ofterary use apences lomy be ant danase tithty heart that ave willl? I hanviss frmead\\n\\nVull\\nITHy lain toum: pliovent theele alo brobnoung thare,\\nI wave heith mo pir,\\nTof thes, and tha ising of I waul to awibe suse sualllon aven:\\nThO that I am al fa\"\n",
            " b\"ROMEO: Is drewheres in therer will oun.\\n\\nBRARTEN:\\nHayn your lefrot of toth comen,\\nI his ats now erart mericu, I dave atent you sa haked ceur; I wers yoou ne ull land, a the antedes,\\nThew I ghent yo, too here arf ore, angher's forturcn and,\\nFort hes monthee a as yon shas note, bo condith Time.\\nINY IINI\\nMAUTENV:\\nWhand move tole dors: I she cetorstent the heust or yout homest thay And thit bor her.\\n\\nBRENENEUEN:\\nI willos.\\nA he tur noth, shor wath, wis hame in touth ray,\\nU'd sil so.\\n\\nPxOUCKIN:\\nPuthing row you?\\n\\nKINLI VARINA IFCHINRO:\\nThaus, nod me you are amainins a gomangoles dilgst, a a dour maner's whim, mest withe, the reanist thou; lave ast atred;\\nAndores andstild to moke will thel the ipk,-goresherts gratht asw'iss west hadd therks, rirme\\nspove angelt bute her ourt\\nLis thing,\\nThiug ciet hores n oxwhar wintella-wix. \\nTrrTyon will ppigrecou -puct;\\nAs sine.\\n\\nTRAIN:\\nI way lots wrre not shaw\\nBu commimt, oues;\\nWill ayt now son of trief blaige serw,\\nWith thay llay ermy goy he whar\\nYoud haidnd yom?\"], shape=(5,), dtype=string) \n",
            "\n",
            "________________________________________________________________________________\n",
            "\n",
            "Run time: 6.912944793701172\n"
          ]
        }
      ]
    },
    {
      "cell_type": "markdown",
      "source": [
        "**Ekspor Model Generator**"
      ],
      "metadata": {
        "id": "TgYSFywcdjeP"
      }
    },
    {
      "cell_type": "code",
      "source": [
        "tf.saved_model.save(one_step_model, 'one_step')\n",
        "one_step_reloaded = tf.saved_model.load('one_step')"
      ],
      "metadata": {
        "colab": {
          "base_uri": "https://localhost:8080/"
        },
        "id": "qWqC-udUdn3c",
        "outputId": "fdd4228d-cb25-43fc-d2f0-fc9b0283acda"
      },
      "execution_count": null,
      "outputs": [
        {
          "output_type": "stream",
          "name": "stderr",
          "text": [
            "WARNING:tensorflow:Skipping full serialization of Keras layer <__main__.OneStep object at 0x7c694673b130>, because it is not built.\n",
            "WARNING:tensorflow:Model's `__init__()` arguments contain non-serializable objects. Please implement a `get_config()` method in the subclassed Model for proper saving and loading. Defaulting to empty config.\n",
            "WARNING:tensorflow:Model's `__init__()` arguments contain non-serializable objects. Please implement a `get_config()` method in the subclassed Model for proper saving and loading. Defaulting to empty config.\n"
          ]
        }
      ]
    },
    {
      "cell_type": "code",
      "source": [
        "states = None\n",
        "next_char = tf.constant(['ROMEO:'])\n",
        "result = [next_char]\n",
        "\n",
        "for n in range(100):\n",
        "  next_char, states = one_step_reloaded.generate_one_step(next_char, states=states)\n",
        "  result.append(next_char)\n",
        "\n",
        "print(tf.strings.join(result)[0].numpy().decode(\"utf-8\"))"
      ],
      "metadata": {
        "colab": {
          "base_uri": "https://localhost:8080/"
        },
        "id": "qtKiRFAndpqs",
        "outputId": "683367a4-7ca2-4440-bf9a-b3a49c169847"
      },
      "execution_count": null,
      "outputs": [
        {
          "output_type": "stream",
          "name": "stdout",
          "text": [
            "ROMEO:\n",
            "Thoul coenents Palist 'oth kid.\n",
            "\n",
            "ALANK:\n",
            "Ondepe\n",
            "Canting I purords curewh avence?\n",
            "\n",
            "DUKE:\n",
            "A mun, aud p\n"
          ]
        }
      ]
    },
    {
      "cell_type": "markdown",
      "source": [
        "**TUGAS**"
      ],
      "metadata": {
        "id": "_D_QWcVodtzL"
      }
    },
    {
      "cell_type": "code",
      "source": [
        "class CustomTraining(MyModel):\n",
        "  @tf.function\n",
        "  def train_step(self, inputs):\n",
        "    inputs, labels = inputs\n",
        "    with tf.GradientTape() as tape:\n",
        "      predictions = self(inputs, training=True)\n",
        "      loss = self.loss(labels, predictions)\n",
        "      grads = tape.gradient(loss, model.trainable_variables)\n",
        "      self.optimizer.apply_gradients(zip(grads, model.trainable_variables))\n",
        "\n",
        "      return {'loss': loss}"
      ],
      "metadata": {
        "id": "Y6z_fJ0Hd6dB"
      },
      "execution_count": null,
      "outputs": []
    },
    {
      "cell_type": "code",
      "source": [
        "model = CustomTraining(\n",
        "    vocab_size=len(ids_from_chars.get_vocabulary()),\n",
        "    embedding_dim=embedding_dim,\n",
        "    rnn_units=rnn_units)"
      ],
      "metadata": {
        "id": "GP2zaj2fd7ra"
      },
      "execution_count": null,
      "outputs": []
    },
    {
      "cell_type": "code",
      "source": [
        "model.compile(optimizer = tf.keras.optimizers.Adam(), loss=tf.keras.losses.SparseCategoricalCrossentropy(from_logits=True))"
      ],
      "metadata": {
        "id": "aKJA7N_9d9PK"
      },
      "execution_count": null,
      "outputs": []
    },
    {
      "cell_type": "code",
      "source": [
        "model.fit(dataset, epochs=1)"
      ],
      "metadata": {
        "colab": {
          "base_uri": "https://localhost:8080/"
        },
        "id": "WlHRvbQAgeai",
        "outputId": "cfff696f-e014-455f-e873-cac201258ebe"
      },
      "execution_count": null,
      "outputs": [
        {
          "output_type": "stream",
          "name": "stdout",
          "text": [
            "172/172 [==============================] - 1040s 6s/step - loss: 2.5132\n"
          ]
        },
        {
          "output_type": "execute_result",
          "data": {
            "text/plain": [
              "<keras.src.callbacks.History at 0x7c693f057b50>"
            ]
          },
          "metadata": {},
          "execution_count": 74
        }
      ]
    },
    {
      "cell_type": "code",
      "source": [
        "EPOCHS = 10\n",
        "\n",
        "mean = tf.metrics.Mean()\n",
        "\n",
        "for epoch in range(EPOCHS):\n",
        "  start = time.time()\n",
        "\n",
        "  mean.reset_states()\n",
        "  for (batch_n, (inp, target)) in enumerate(dataset):\n",
        "    logs = model.train_step([inp, target])\n",
        "    mean.update_state(logs['loss'])\n",
        "\n",
        "    if batch_n % 50 == 0:\n",
        "      template = f\"Epoch {epoch+1} Batch {batch_n} Loss {logs['loss']:.4f}\"\n",
        "      print(template)\n",
        "\n",
        "  # saving (checkpoint) the model every 5 epochs\n",
        "  if (epoch + 1) % 5 == 0:\n",
        "    model.save_weights(checkpoint_prefix.format(epoch=epoch))\n",
        "\n",
        "  print()\n",
        "  print(f'Epoch {epoch+1} Loss: {mean.result().numpy():.4f}')\n",
        "  print(f'Time taken for 1 epoch {time.time() - start:.2f} sec')\n",
        "  print(\"_\"*80)\n",
        "\n",
        "model.save_weights(checkpoint_prefix.format(epoch=epoch))"
      ],
      "metadata": {
        "colab": {
          "base_uri": "https://localhost:8080/"
        },
        "id": "7Iyqj-Rcd_7B",
        "outputId": "8c08914c-de6b-4e03-beb8-5395bba61884"
      },
      "execution_count": null,
      "outputs": [
        {
          "output_type": "stream",
          "name": "stdout",
          "text": [
            "Epoch 1 Batch 0 Loss 2.1400\n",
            "Epoch 1 Batch 50 Loss 2.0251\n",
            "Epoch 1 Batch 100 Loss 1.9125\n",
            "Epoch 1 Batch 150 Loss 1.8239\n",
            "\n",
            "Epoch 1 Loss: 1.9583\n",
            "Time taken for 1 epoch 981.91 sec\n",
            "________________________________________________________________________________\n",
            "Epoch 2 Batch 0 Loss 1.7799\n",
            "Epoch 2 Batch 50 Loss 1.7615\n",
            "Epoch 2 Batch 100 Loss 1.6759\n",
            "Epoch 2 Batch 150 Loss 1.5940\n",
            "\n",
            "Epoch 2 Loss: 1.6949\n",
            "Time taken for 1 epoch 1002.11 sec\n",
            "________________________________________________________________________________\n",
            "Epoch 3 Batch 0 Loss 1.5849\n",
            "Epoch 3 Batch 50 Loss 1.5387\n",
            "Epoch 3 Batch 100 Loss 1.5088\n",
            "Epoch 3 Batch 150 Loss 1.5165\n",
            "\n",
            "Epoch 3 Loss: 1.5412\n",
            "Time taken for 1 epoch 981.91 sec\n",
            "________________________________________________________________________________\n",
            "Epoch 4 Batch 0 Loss 1.5137\n",
            "Epoch 4 Batch 50 Loss 1.4191\n",
            "Epoch 4 Batch 100 Loss 1.4154\n",
            "Epoch 4 Batch 150 Loss 1.4057\n",
            "\n",
            "Epoch 4 Loss: 1.4448\n",
            "Time taken for 1 epoch 981.92 sec\n",
            "________________________________________________________________________________\n",
            "Epoch 5 Batch 0 Loss 1.3593\n",
            "Epoch 5 Batch 50 Loss 1.3828\n",
            "Epoch 5 Batch 100 Loss 1.4223\n",
            "Epoch 5 Batch 150 Loss 1.3650\n",
            "\n",
            "Epoch 5 Loss: 1.3783\n",
            "Time taken for 1 epoch 1102.04 sec\n",
            "________________________________________________________________________________\n",
            "Epoch 6 Batch 0 Loss 1.3111\n",
            "Epoch 6 Batch 50 Loss 1.3349\n",
            "Epoch 6 Batch 100 Loss 1.3377\n",
            "Epoch 6 Batch 150 Loss 1.2993\n",
            "\n",
            "Epoch 6 Loss: 1.3254\n",
            "Time taken for 1 epoch 1101.92 sec\n",
            "________________________________________________________________________________\n",
            "Epoch 7 Batch 0 Loss 1.3037\n",
            "Epoch 7 Batch 50 Loss 1.2970\n",
            "Epoch 7 Batch 100 Loss 1.2397\n",
            "Epoch 7 Batch 150 Loss 1.2616\n",
            "\n",
            "Epoch 7 Loss: 1.2809\n",
            "Time taken for 1 epoch 1041.91 sec\n",
            "________________________________________________________________________________\n",
            "Epoch 8 Batch 0 Loss 1.2291\n",
            "Epoch 8 Batch 50 Loss 1.2632\n",
            "Epoch 8 Batch 100 Loss 1.2948\n",
            "Epoch 8 Batch 150 Loss 1.2382\n",
            "\n",
            "Epoch 8 Loss: 1.2406\n",
            "Time taken for 1 epoch 980.85 sec\n",
            "________________________________________________________________________________\n",
            "Epoch 9 Batch 0 Loss 1.2135\n",
            "Epoch 9 Batch 50 Loss 1.1779\n",
            "Epoch 9 Batch 100 Loss 1.2409\n",
            "Epoch 9 Batch 150 Loss 1.2221\n",
            "\n",
            "Epoch 9 Loss: 1.2009\n",
            "Time taken for 1 epoch 982.33 sec\n",
            "________________________________________________________________________________\n",
            "Epoch 10 Batch 0 Loss 1.0991\n",
            "Epoch 10 Batch 50 Loss 1.1556\n",
            "Epoch 10 Batch 100 Loss 1.1727\n",
            "Epoch 10 Batch 150 Loss 1.1756\n",
            "\n",
            "Epoch 10 Loss: 1.1604\n",
            "Time taken for 1 epoch 1042.00 sec\n",
            "________________________________________________________________________________\n"
          ]
        }
      ]
    },
    {
      "cell_type": "markdown",
      "source": [
        "**SOAL**\n",
        "\n",
        "Jalankan kode diatas dan sebutkan perbedaanya dengan praktikum 2?\n",
        "\n"
      ],
      "metadata": {
        "id": "EsMZTn-peOHt"
      }
    },
    {
      "cell_type": "markdown",
      "source": [
        "**JAWAB**"
      ],
      "metadata": {
        "id": "Av1yJNLpeTDg"
      }
    },
    {
      "cell_type": "markdown",
      "source": [
        " Perbedaan  kode tugas dan kode magang 2 terletak pada metode pelatihannya.\n",
        " Praktikum 2 menggunakan metode pelatihan yang lebih sederhana dan umum digunakan, yaitu “model.fit”.\n",
        " Pada saat yang sama, kode  tugas menjelaskan metode pelatihan yang lebih spesifik dan kompleks, termasuk beberapa penyesuaian.\n",
        " Rephrase Mengikuti pendekatan ini, tentukan metode train_step dalam model t\n",
        " turunan untuk menangani pelatihan  tingkat batch.\n",
        " Kami secara eksplisit menghitung kerugian, gradien, dan menerapkan pembaruan bobot model dengan apply_gradients, dan menggunakan objek tf.metrics.Mean untuk menghitung kerugian rata-rata  selama pelatihan.\n",
        " Pendekatan ini memberikan lebih banyak kontrol dan fleksibilitas dalam parameter pelatihan model.\n",
        "\n"
      ],
      "metadata": {
        "id": "XUUgbGKUeVAG"
      }
    }
  ]
}